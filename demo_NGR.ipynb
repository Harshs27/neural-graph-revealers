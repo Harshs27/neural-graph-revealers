{
  "cells": [
    {
      "cell_type": "markdown",
      "source": [
        "### Neural Graph Revealers for modeling GGMs\n",
        "\n",
        "- We design a synthetic experiment to study the capability of `Neural Graph Revealers` to recover conditional independence graph represented by Gaussian graphical models.  \n",
        "- The input data X is sampled from a multivariate Gaussian distribution where we define the underlying precision matrix.   \n",
        "- Run `NGRs` to recover the underlying graph between features that should ideally match the CI graph."
      ],
      "metadata": {}
    },
    {
      "cell_type": "code",
      "source": [
        "import os, sys\n",
        "# reloads modules automatically before entering the \n",
        "# execution of code typed at the IPython prompt.\n",
        "%load_ext autoreload\n",
        "%autoreload 2\n",
        "print(sys.prefix)\n",
        "import warnings\n",
        "warnings.filterwarnings('ignore')\n",
        "\n",
        "import pickle"
      ],
      "outputs": [
        {
          "output_type": "stream",
          "name": "stdout",
          "text": "/anaconda/envs/ngm\n"
        }
      ],
      "execution_count": 1,
      "metadata": {
        "gather": {
          "logged": 1677460089277
        }
      }
    },
    {
      "cell_type": "markdown",
      "source": [
        "### Setup the Gaussian graphical model\n",
        "1. Initialize a graph type.\n",
        "2. Get the precision matrix `theta` and corresponding samples `X` from a multivariate Gaussian distribution.\n",
        "3. Get the partial correlations matrix `rho` and the graph `G`."
      ],
      "metadata": {}
    },
    {
      "cell_type": "code",
      "source": [
        "import numpy as np\n",
        "import pandas as pd\n",
        "\n",
        "# Local imports\n",
        "from ngr.utils import ggm\n",
        "from ngr.utils import data_processing as dp\n",
        "\n",
        "# Xb - samples batch, trueTheta - corresponding true precision matrices\n",
        "Xb, true_theta = ggm.get_data(\n",
        "    num_nodes=10, \n",
        "    typeG='CHAIN', \n",
        "    sparsity=[0.2, 0.2], # Not used for chain graph\n",
        "    num_samples=2000, \n",
        "    batch_size=1,\n",
        "    eig_offset=0.1, # 0.5 #0.1, \n",
        "    w_min=0.5,\n",
        "    w_max=1\n",
        ")\n",
        "X, true_theta = Xb[0], true_theta[0]\n",
        "# set the column names for X\n",
        "X = pd.DataFrame(X, columns=['n'+str(i) for i in range(X.shape[1])])\n",
        "rho = ggm.get_partial_correlations(true_theta)\n",
        "print(f'partial correlations: {rho.shape}, Samples {X.shape}')\n",
        "G, image_G, graph_edge_list = ggm.graph_from_partial_correlations(rho, X.columns)"
      ],
      "outputs": [
        {
          "output_type": "stream",
          "name": "stdout",
          "text": "partial correlations: (10, 10), Samples (2000, 10)\nSparsity 1 using threshold 0.0\n"
        }
      ],
      "execution_count": 2,
      "metadata": {
        "gather": {
          "logged": 1677460093170
        }
      }
    },
    {
      "cell_type": "code",
      "source": [
        "Gv = dp.get_interactive_graph(G, 'GGM Chain graph', node_PREFIX=None)\n",
        "Gv.show('viz_ggm.html')"
      ],
      "outputs": [
        {
          "output_type": "execute_result",
          "execution_count": 3,
          "data": {
            "text/plain": "<IPython.lib.display.IFrame at 0x7fe4cdd24dc0>",
            "text/html": "\n        <iframe\n            width=\"100%\"\n            height=\"750px\"\n            src=\"viz_ggm.html\"\n            frameborder=\"0\"\n            allowfullscreen\n            \n        ></iframe>\n        "
          },
          "metadata": {}
        }
      ],
      "execution_count": 3,
      "metadata": {
        "gather": {
          "logged": 1677460093334
        }
      }
    },
    {
      "cell_type": "markdown",
      "source": [
        "### Neural graph revealer\n",
        "\n",
        "For faster runtimes, set USE_CUDA=True"
      ],
      "metadata": {}
    },
    {
      "cell_type": "code",
      "source": [
        "import pandas as pd\n",
        "import ngr.main as ngr\n",
        "import ngr.utils.data_processing as dp\n",
        "\n",
        "model_NGR = ngr.recover_graph(\n",
        "    X, lambd=1e2,\n",
        "    hidden_dim=200,\n",
        "    epochs= 200000,\n",
        "    lr= 0.00005, #0.0001, #0.0005,\n",
        "    norm_type='min_max',\n",
        "    k_fold=1,\n",
        "    structure_penalty='hadamard',\n",
        "    VERBOSE=True, \n",
        "    BATCH_SIZE=1000,#None#5000, #1000\n",
        ") \n",
        "# NOTE: KEEP low learning rate and high number of epochs.\n"
      ],
      "outputs": [
        {
          "output_type": "stream",
          "name": "stdout",
          "text": "Means of selected features (n0   -0.052768\nn1   -0.019441\nn2    0.023159\nn3   -0.010095\nn4    0.005538\nn5    0.021709\nn6    0.014364\nn7   -0.056324\nn8   -0.078780\nn9    0.007826\ndtype: float64, 10)\nNormalizing the data: min_max\n: Processing the input table for basic compatibility check\n: The input table has sample 2000 and features 10\n: Total zero samples dropped 0\n: Single value columns dropped: total 0, columns []\n: The processed table has sample 2000 and features 10\n: Total time to process the table 0.009 secs\nFold num 0\nInitializing the NGR model\n\nFold 0: epoch:0/200000\nTrain: loss=3.8300092220306396, reg=0.25334906578063965, struct=0.0357666015625\nTest: loss=3.828451633453369, reg=0.251791387796402, struct=0.0357666015625\n\nFold 0: epoch:20000/200000\nTrain: loss=2.69122052192688, reg=0.013352111913263798, struct=0.026778683066368103\nTest: loss=2.6908962726593018, reg=0.01302801538258791, struct=0.026778683066368103\n\nFold 0: epoch:40000/200000\nTrain: loss=1.4616085290908813, reg=0.016038527712225914, struct=0.014455699361860752\nTest: loss=1.461318016052246, reg=0.015748070552945137, struct=0.014455699361860752\n\nFold 0: epoch:60000/200000\nTrain: loss=1.1551644802093506, reg=0.015154458582401276, struct=0.011400099843740463\nTest: loss=1.1549729108810425, reg=0.014962960965931416, struct=0.011400099843740463\n\nFold 0: epoch:80000/200000\nTrain: loss=1.0201197862625122, reg=0.01514197513461113, struct=0.010049778036773205\nTest: loss=1.0201401710510254, reg=0.015162309631705284, struct=0.010049778036773205\n\nFold 0: epoch:100000/200000\nTrain: loss=1.0161917209625244, reg=0.012020577676594257, struct=0.01004171185195446\nTest: loss=1.0162450075149536, reg=0.012073861435055733, struct=0.01004171185195446\n\nFold 0: epoch:120000/200000\nTrain: loss=1.013055443763733, reg=0.006826355122029781, struct=0.010062290355563164\nTest: loss=1.0132107734680176, reg=0.0069817109033465385, struct=0.010062290355563164\n\nFold 0: epoch:140000/200000\nTrain: loss=1.0100176334381104, reg=0.003170079318806529, struct=0.010068475268781185\nTest: loss=1.0102317333221436, reg=0.003384290263056755, struct=0.010068475268781185\n\nFold 0: epoch:160000/200000\nTrain: loss=1.0080407857894897, reg=0.0019589297007769346, struct=0.010060817934572697\nTest: loss=1.0083588361740112, reg=0.0022769756615161896, struct=0.010060817934572697\n\nFold 0: epoch:180000/200000\nTrain: loss=1.0066218376159668, reg=0.0014127849135547876, struct=0.010052090510725975\nTest: loss=1.0070931911468506, reg=0.001884156372398138, struct=0.010052090510725975\n\n\nBest model selected: Fold 0: epoch:199999/200000:\n                    Train: loss=1.0056706666946411, reg=0.0010853029089048505, struct=0.010045853443443775\n                    Test (reg): loss=1.006341576576233, reg=0.0017562477150931954, struct=0.010045853443443775\n"
        }
      ],
      "execution_count": 25,
      "metadata": {
        "gather": {
          "logged": 1677473906427
        }
      }
    },
    {
      "cell_type": "code",
      "source": [
        "# Plot the graph\n",
        "G_ngr = ngr.get_graph_NGR(model_NGR, sparsity=1)\n",
        "# print(G_ngr.edges(data=True))\n",
        "Gv_ngr = dp.get_interactive_graph(G_ngr, 'NGR graph', node_PREFIX=None)\n",
        "Gv_ngr.show('viz_ngr.html')"
      ],
      "outputs": [
        {
          "output_type": "stream",
          "name": "stdout",
          "text": "Sparsity 1 using threshold 1.8383259885013103e-05\n"
        },
        {
          "output_type": "execute_result",
          "execution_count": 26,
          "data": {
            "text/plain": "<IPython.lib.display.IFrame at 0x7fe5de42c580>",
            "text/html": "\n        <iframe\n            width=\"100%\"\n            height=\"750px\"\n            src=\"viz_ngr.html\"\n            frameborder=\"0\"\n            allowfullscreen\n            \n        ></iframe>\n        "
          },
          "metadata": {}
        }
      ],
      "execution_count": 26,
      "metadata": {
        "gather": {
          "logged": 1677473907416
        }
      }
    },
    {
      "cell_type": "markdown",
      "source": [
        "### Comparison "
      ],
      "metadata": {}
    },
    {
      "cell_type": "code",
      "source": [
        "# Comparing with true precision matrix\n",
        "from ngr.utils.metrics import graph_compare_metrics\n",
        "import networkx as nx\n",
        "\n",
        "true_adj = np.array(nx.adjacency_matrix(G).todense())\n",
        "ngr_adj = np.array(nx.adjacency_matrix(G_ngr).todense())\n",
        "compare_results = graph_compare_metrics(\n",
        "    (true_adj != 0).astype(int),# np.abs(true_adj), \n",
        "    np.abs(ngr_adj) # Compare with sparsity=1\n",
        ")\n",
        "print(f'NGR: {compare_results}')\n"
      ],
      "outputs": [
        {
          "output_type": "stream",
          "name": "stdout",
          "text": "NGR: {'FDR': 0.5263157894736842, 'TPR': 1.0, 'FPR': 0.2777777777777778, 'SHD': 10, 'nnzTrue': 9, 'nnzPred': 19, 'precision': 0.47368421052631576, 'recall': 1.0, 'Fbeta': 0.6428571428571429, 'aupr': 0.45882441145599034, 'auc': 0.845679012345679}\n"
        }
      ],
      "execution_count": 27,
      "metadata": {
        "gather": {
          "logged": 1677473907552
        }
      }
    },
    {
      "cell_type": "markdown",
      "source": [
        "#### NGR Dependency functions"
      ],
      "metadata": {}
    },
    {
      "cell_type": "code",
      "source": [
        "# Analyse the distribution details of the feature of interest\n",
        "feature_of_interest = 'n1'\n",
        "ngr.analyse_feature(feature_of_interest, model_NGR, G)#, dp.series2df(mean))"
      ],
      "outputs": [
        {
          "output_type": "stream",
          "name": "stdout",
          "text": "Features dropped from graph: set()\ntarget=n1, source=n0\ntarget=n1, source=n2\n"
        },
        {
          "output_type": "display_data",
          "data": {
            "text/plain": "<Figure size 1080x1080 with 2 Axes>",
            "image/png": "[encoded data removed]"
          },
          "metadata": {
            "needs_background": "light"
          }
        }
      ],
      "execution_count": 28,
      "metadata": {
        "gather": {
          "logged": 1677473908542
        }
      }
    },
    {
      "cell_type": "code",
      "source": [],
      "outputs": [],
      "execution_count": null,
      "metadata": {
        "jupyter": {
          "source_hidden": false,
          "outputs_hidden": false
        },
        "nteract": {
          "transient": {
            "deleting": false
          }
        }
      }
    },
    {
      "cell_type": "code",
      "source": [],
      "outputs": [],
      "execution_count": null,
      "metadata": {
        "jupyter": {
          "source_hidden": false,
          "outputs_hidden": false
        },
        "nteract": {
          "transient": {
            "deleting": false
          }
        }
      }
    }
  ],
  "metadata": {
    "kernel_info": {
      "name": "ngm"
    },
    "kernelspec": {
      "name": "ngm",
      "language": "python",
      "display_name": "ngm"
    },
    "language_info": {
      "name": "python",
      "version": "3.8.13",
      "mimetype": "text/x-python",
      "codemirror_mode": {
        "name": "ipython",
        "version": 3
      },
      "pygments_lexer": "ipython3",
      "nbconvert_exporter": "python",
      "file_extension": ".py"
    },
    "nteract": {
      "version": "nteract-front-end@1.0.0"
    },
    "vscode": {
      "interpreter": {
        "hash": "00816ecc25ad2bb8c24eb1ef6b288af77452a91daad584df7400e0df570f6e36"
      }
    },
    "microsoft": {
      "host": {
        "AzureML": {
          "notebookHasBeenCompleted": true
        }
      },
      "ms_spell_check": {
        "ms_spell_check_language": "en"
      }
    }
  },
  "nbformat": 4,
  "nbformat_minor": 1
}