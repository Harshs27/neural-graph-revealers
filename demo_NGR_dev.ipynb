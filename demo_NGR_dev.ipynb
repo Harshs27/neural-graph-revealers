{
  "cells": [
    {
      "cell_type": "markdown",
      "source": [
        "### Neural Graph Revealers for recovering conditional independence graphs \n",
        "\n",
        "- We design a synthetic experiment to study the capability of `Neural Graph Revealers` to recover conditional independence graph represented by Gaussian graphical models.  \n",
        "- The input data X is sampled from a multivariate Gaussian distribution where we define the underlying precision matrix.   \n",
        "- Run `NGRs` to recover the underlying graph between features that should ideally match the CI graph."
      ],
      "metadata": {}
    },
    {
      "cell_type": "code",
      "source": [
        "import os, sys\n",
        "# reloads modules automatically before entering the \n",
        "# execution of code typed at the IPython prompt.\n",
        "%load_ext autoreload\n",
        "%autoreload 2\n",
        "print(sys.prefix)\n",
        "import warnings\n",
        "warnings.filterwarnings('ignore')\n",
        "\n",
        "import pickle"
      ],
      "outputs": [
        {
          "output_type": "stream",
          "name": "stdout",
          "text": "The autoreload extension is already loaded. To reload it, use:\n  %reload_ext autoreload\n/anaconda/envs/ngm\n"
        }
      ],
      "execution_count": 3,
      "metadata": {
        "gather": {
          "logged": 1675290950273
        }
      }
    },
    {
      "cell_type": "markdown",
      "source": [
        "### Setup the Gaussian graphical model\n",
        "1. Initialize a graph type.\n",
        "2. Get the precision matrix `theta` and corresponding samples `X` from a multivariate Gaussian distribution.\n",
        "3. Get the partial correlations matrix `rho` and the graph `G`."
      ],
      "metadata": {}
    },
    {
      "cell_type": "code",
      "source": [
        "import numpy as np\n",
        "import pandas as pd\n",
        "\n",
        "# Local imports\n",
        "from ngr.utils import ggm\n",
        "from ngr.utils import data_processing as dp\n",
        "# from uGLAD.utils.metrics import reportMetrics\n",
        "\n",
        "# Xb = samples batch, trueTheta = corresponding true precision matrices\n",
        "Xb, true_theta = ggm.get_data(\n",
        "    num_nodes=10, \n",
        "    typeG='CHAIN', \n",
        "    sparsity=[0.2, 0.2], # Not used for chain graph\n",
        "    num_samples=5000, \n",
        "    batch_size=1,\n",
        "    eig_offset=0.1, # 0.5 #0.1, \n",
        "    w_min=0.5,\n",
        "    w_max=1\n",
        ")\n",
        "X, true_theta =Xb[0], true_theta[0]\n",
        "# set the column names for X\n",
        "X = pd.DataFrame(X, columns=['n'+str(i) for i in range(X.shape[1])])\n",
        "rho = ggm.get_partial_correlations(true_theta)\n",
        "print(f'partial correlations: {rho.shape}, Samples {X.shape}')\n",
        "G, image_G, graph_edge_list = ggm.graph_from_partial_correlations(rho, X.columns)"
      ],
      "outputs": [
        {
          "output_type": "stream",
          "name": "stdout",
          "text": "partial correlations: (10, 10), Samples (5000, 10)\nSparsity 1 using threshold 0.0\n"
        }
      ],
      "execution_count": 111,
      "metadata": {
        "gather": {
          "logged": 1675299145934
        }
      }
    },
    {
      "cell_type": "code",
      "source": [
        "Gv = dp.get_interactive_graph(G, 'GGM Chain graph', node_PREFIX=None)\n",
        "Gv.show('viz_ggm.html')"
      ],
      "outputs": [
        {
          "output_type": "execute_result",
          "execution_count": 112,
          "data": {
            "text/plain": "<IPython.lib.display.IFrame at 0x7fd0915c1520>",
            "text/html": "\n        <iframe\n            width=\"100%\"\n            height=\"750px\"\n            src=\"viz_ggm.html\"\n            frameborder=\"0\"\n            allowfullscreen\n            \n        ></iframe>\n        "
          },
          "metadata": {}
        }
      ],
      "execution_count": 112,
      "metadata": {
        "gather": {
          "logged": 1675299146853
        }
      }
    },
    {
      "cell_type": "code",
      "source": [
        "X"
      ],
      "outputs": [
        {
          "output_type": "execute_result",
          "execution_count": 113,
          "data": {
            "text/plain": "            n0        n1        n2        n3        n4        n5        n6  \\\n0     0.927876  0.258931 -0.105842 -0.678787 -0.745415  1.236235 -0.282876   \n1    -0.570216 -0.263540 -0.755614  0.527412  0.567624 -0.080773  0.654520   \n2    -0.389144  1.417749 -2.916772 -1.309015 -0.184877  0.481146 -0.672332   \n3     2.594957 -1.229257  1.749264  1.898640  1.691540 -1.521940  1.720549   \n4     0.621426 -0.129744 -0.404810  1.775537  1.637809 -4.875077  3.339646   \n...        ...       ...       ...       ...       ...       ...       ...   \n4995  0.046404  0.881449 -0.097669 -0.415455 -1.273092  1.486392 -0.373307   \n4996  1.592964 -1.186895  2.800115  1.931809  2.167905 -1.118636  1.883468   \n4997 -1.415726  0.487105  1.369036  2.707052  1.731495 -1.835650  0.594205   \n4998  0.041689  0.456697  0.112964 -0.716785 -1.153483 -0.461233  0.976402   \n4999 -1.282744  1.225152 -0.177002  1.075330  1.010992  0.779833  0.611965   \n\n            n7        n8        n9  \n0     0.281102 -0.583366  1.131229  \n1    -0.984607  2.032298  0.060092  \n2     0.094541 -0.612361  0.075920  \n3     0.378290 -0.644375  0.785154  \n4     1.970880  0.021086 -0.343922  \n...        ...       ...       ...  \n4995 -0.769104  1.038608 -0.769487  \n4996  0.953308  0.101772  0.109246  \n4997  0.444833  0.549311 -0.234094  \n4998  1.339956 -0.549866 -1.130835  \n4999  1.353387 -0.573847  0.686572  \n\n[5000 rows x 10 columns]",
            "text/html": "<div>\n<style scoped>\n    .dataframe tbody tr th:only-of-type {\n        vertical-align: middle;\n    }\n\n    .dataframe tbody tr th {\n        vertical-align: top;\n    }\n\n    .dataframe thead th {\n        text-align: right;\n    }\n</style>\n<table border=\"1\" class=\"dataframe\">\n  <thead>\n    <tr style=\"text-align: right;\">\n      <th></th>\n      <th>n0</th>\n      <th>n1</th>\n      <th>n2</th>\n      <th>n3</th>\n      <th>n4</th>\n      <th>n5</th>\n      <th>n6</th>\n      <th>n7</th>\n      <th>n8</th>\n      <th>n9</th>\n    </tr>\n  </thead>\n  <tbody>\n    <tr>\n      <th>0</th>\n      <td>0.927876</td>\n      <td>0.258931</td>\n      <td>-0.105842</td>\n      <td>-0.678787</td>\n      <td>-0.745415</td>\n      <td>1.236235</td>\n      <td>-0.282876</td>\n      <td>0.281102</td>\n      <td>-0.583366</td>\n      <td>1.131229</td>\n    </tr>\n    <tr>\n      <th>1</th>\n      <td>-0.570216</td>\n      <td>-0.263540</td>\n      <td>-0.755614</td>\n      <td>0.527412</td>\n      <td>0.567624</td>\n      <td>-0.080773</td>\n      <td>0.654520</td>\n      <td>-0.984607</td>\n      <td>2.032298</td>\n      <td>0.060092</td>\n    </tr>\n    <tr>\n      <th>2</th>\n      <td>-0.389144</td>\n      <td>1.417749</td>\n      <td>-2.916772</td>\n      <td>-1.309015</td>\n      <td>-0.184877</td>\n      <td>0.481146</td>\n      <td>-0.672332</td>\n      <td>0.094541</td>\n      <td>-0.612361</td>\n      <td>0.075920</td>\n    </tr>\n    <tr>\n      <th>3</th>\n      <td>2.594957</td>\n      <td>-1.229257</td>\n      <td>1.749264</td>\n      <td>1.898640</td>\n      <td>1.691540</td>\n      <td>-1.521940</td>\n      <td>1.720549</td>\n      <td>0.378290</td>\n      <td>-0.644375</td>\n      <td>0.785154</td>\n    </tr>\n    <tr>\n      <th>4</th>\n      <td>0.621426</td>\n      <td>-0.129744</td>\n      <td>-0.404810</td>\n      <td>1.775537</td>\n      <td>1.637809</td>\n      <td>-4.875077</td>\n      <td>3.339646</td>\n      <td>1.970880</td>\n      <td>0.021086</td>\n      <td>-0.343922</td>\n    </tr>\n    <tr>\n      <th>...</th>\n      <td>...</td>\n      <td>...</td>\n      <td>...</td>\n      <td>...</td>\n      <td>...</td>\n      <td>...</td>\n      <td>...</td>\n      <td>...</td>\n      <td>...</td>\n      <td>...</td>\n    </tr>\n    <tr>\n      <th>4995</th>\n      <td>0.046404</td>\n      <td>0.881449</td>\n      <td>-0.097669</td>\n      <td>-0.415455</td>\n      <td>-1.273092</td>\n      <td>1.486392</td>\n      <td>-0.373307</td>\n      <td>-0.769104</td>\n      <td>1.038608</td>\n      <td>-0.769487</td>\n    </tr>\n    <tr>\n      <th>4996</th>\n      <td>1.592964</td>\n      <td>-1.186895</td>\n      <td>2.800115</td>\n      <td>1.931809</td>\n      <td>2.167905</td>\n      <td>-1.118636</td>\n      <td>1.883468</td>\n      <td>0.953308</td>\n      <td>0.101772</td>\n      <td>0.109246</td>\n    </tr>\n    <tr>\n      <th>4997</th>\n      <td>-1.415726</td>\n      <td>0.487105</td>\n      <td>1.369036</td>\n      <td>2.707052</td>\n      <td>1.731495</td>\n      <td>-1.835650</td>\n      <td>0.594205</td>\n      <td>0.444833</td>\n      <td>0.549311</td>\n      <td>-0.234094</td>\n    </tr>\n    <tr>\n      <th>4998</th>\n      <td>0.041689</td>\n      <td>0.456697</td>\n      <td>0.112964</td>\n      <td>-0.716785</td>\n      <td>-1.153483</td>\n      <td>-0.461233</td>\n      <td>0.976402</td>\n      <td>1.339956</td>\n      <td>-0.549866</td>\n      <td>-1.130835</td>\n    </tr>\n    <tr>\n      <th>4999</th>\n      <td>-1.282744</td>\n      <td>1.225152</td>\n      <td>-0.177002</td>\n      <td>1.075330</td>\n      <td>1.010992</td>\n      <td>0.779833</td>\n      <td>0.611965</td>\n      <td>1.353387</td>\n      <td>-0.573847</td>\n      <td>0.686572</td>\n    </tr>\n  </tbody>\n</table>\n<p>5000 rows × 10 columns</p>\n</div>"
          },
          "metadata": {}
        }
      ],
      "execution_count": 113,
      "metadata": {
        "gather": {
          "logged": 1675299148512
        },
        "jupyter": {
          "outputs_hidden": false,
          "source_hidden": false
        },
        "nteract": {
          "transient": {
            "deleting": false
          }
        }
      }
    },
    {
      "cell_type": "markdown",
      "source": [
        "### Setup DAG input data\r\n",
        "\r\n",
        "- Moralize the DAG graph to get the undirected version"
      ],
      "metadata": {
        "nteract": {
          "transient": {
            "deleting": false
          }
        }
      }
    },
    {
      "cell_type": "code",
      "source": [
        "# Local imports\r\n",
        "from ngr.utils import dag\r\n",
        "from ngr.utils import data_processing as dp\r\n",
        "import networkx as nx\r\n",
        "import numpy as np\r\n",
        "import pandas as pd\r\n",
        "\r\n",
        "\r\n",
        "# Do we need to moralize the DAG?\r\n",
        "def get_DAG_data():\r\n",
        "    dag.set_random_seed(1)\r\n",
        "    # s0 = expected edges\r\n",
        "    n, d, s0, graph_type, sem_type = 1000, 10, 10, 'ER', 'gauss'\r\n",
        "    B_true = dag.simulate_dag(d, s0, graph_type)\r\n",
        "    W_true = dag.simulate_parameter(B_true)\r\n",
        "    node_names = ['n'+str(i) for i in range(W_true.shape[0])]\r\n",
        "    W_true = pd.DataFrame(W_true, columns=node_names, index=node_names)\r\n",
        "    print(W_true)\r\n",
        "    # np.savetxt('W_true.csv', W_true, delimiter=',')\r\n",
        "    X = dag.simulate_linear_sem(W_true, n, sem_type)\r\n",
        "    print(B_true.shape, W_true, X,  X.shape)\r\n",
        "    # Moralize the W_true\r\n",
        "    G_BN = nx.from_pandas_adjacency(W_true, create_using=nx.DiGraph)\r\n",
        "    G_BN_moral = nx.moral_graph(G_BN)\r\n",
        "    return X, G_BN_moral\r\n",
        "\r\n",
        "X, G = get_DAG_data()\r\n",
        "Gv = dp.get_interactive_graph(G, 'Moralized DAG graph', node_PREFIX=None)\r\n",
        "Gv.show('viz_dag_moralized.html')"
      ],
      "outputs": [
        {
          "output_type": "stream",
          "name": "stdout",
          "text": "          n0       n1        n2        n3        n4        n5   n6   n7   n8  \\\nn0  0.000000  0.00000  0.000000  0.000000  0.000000  1.643860  0.0  0.0  0.0   \nn1  0.000000  0.00000  0.000000  0.000000  0.000000  0.000000  0.0  0.0  0.0   \nn2  0.000000  0.00000  0.000000  0.000000  0.000000 -1.252836  0.0  0.0  0.0   \nn3  0.000000  0.00000  0.000000  0.000000  0.000000  0.000000  0.0  0.0  0.0   \nn4  0.000000  0.00000  0.000000  0.000000  0.000000 -1.173013  0.0  0.0  0.0   \nn5  0.000000  0.00000  0.000000  0.000000  0.000000  0.000000  0.0  0.0  0.0   \nn6  0.000000  0.00000  0.000000  0.000000 -1.582522  0.535826  0.0  0.0  0.0   \nn7  0.000000 -1.56536  0.970416  1.929247  0.000000  0.000000  0.0  0.0  0.0   \nn8 -0.594215  0.00000  0.000000  0.000000  0.000000  0.000000  0.0  0.0  0.0   \nn9  0.000000  0.00000  0.000000  0.000000  0.000000  0.000000  0.0  0.0  0.0   \n\n          n9  \nn0  0.000000  \nn1  0.000000  \nn2  0.000000  \nn3  0.000000  \nn4  0.000000  \nn5  0.000000  \nn6  0.000000  \nn7  0.000000  \nn8 -1.588032  \nn9  0.000000  \n(10, 10)           n0       n1        n2        n3        n4        n5   n6   n7   n8  \\\nn0  0.000000  0.00000  0.000000  0.000000  0.000000  1.643860  0.0  0.0  0.0   \nn1  0.000000  0.00000  0.000000  0.000000  0.000000  0.000000  0.0  0.0  0.0   \nn2  0.000000  0.00000  0.000000  0.000000  0.000000 -1.252836  0.0  0.0  0.0   \nn3  0.000000  0.00000  0.000000  0.000000  0.000000  0.000000  0.0  0.0  0.0   \nn4  0.000000  0.00000  0.000000  0.000000  0.000000 -1.173013  0.0  0.0  0.0   \nn5  0.000000  0.00000  0.000000  0.000000  0.000000  0.000000  0.0  0.0  0.0   \nn6  0.000000  0.00000  0.000000  0.000000 -1.582522  0.535826  0.0  0.0  0.0   \nn7  0.000000 -1.56536  0.970416  1.929247  0.000000  0.000000  0.0  0.0  0.0   \nn8 -0.594215  0.00000  0.000000  0.000000  0.000000  0.000000  0.0  0.0  0.0   \nn9  0.000000  0.00000  0.000000  0.000000  0.000000  0.000000  0.0  0.0  0.0   \n\n          n9  \nn0  0.000000  \nn1  0.000000  \nn2  0.000000  \nn3  0.000000  \nn4  0.000000  \nn5  0.000000  \nn6  0.000000  \nn7  0.000000  \nn8 -1.588032  \nn9  0.000000              n0        n1        n2        n3        n4        n5        n6  \\\n0   -0.879388 -1.498487 -0.200611 -0.565441  0.749589 -4.111331 -0.236126   \n1    0.209718  0.013761 -0.816109 -1.839567  2.329623 -2.117465 -1.706715   \n2    0.370812 -0.784018 -1.006298 -3.390591  3.055930 -0.894312 -1.277711   \n3   -0.203842  2.331434 -2.148552 -2.014193  0.468403  0.784667 -0.689479   \n4    1.152455 -0.286871  0.166349 -0.525902  1.741010 -1.383982  0.028191   \n..        ...       ...       ...       ...       ...       ...       ...   \n995 -1.174983  1.436450 -2.772480 -2.178824  2.852591 -3.176169 -2.162356   \n996  1.465461  0.761249 -2.022885 -1.293409  3.827028 -0.699275 -1.287469   \n997  1.092442  1.026486  1.927907  0.707301 -3.192190  2.972836  1.645823   \n998 -1.174755 -0.174931 -0.541422 -0.801369 -1.985708  1.058453  1.227950   \n999 -1.007932  2.051556  0.146809 -4.274731  0.116606 -0.973810  0.111293   \n\n           n7        n8        n9  \n0    0.258645  1.514419 -2.066371  \n1   -0.430337 -0.043701 -0.100583  \n2   -0.398817 -1.267784  3.543143  \n3   -1.256842 -0.195800  0.972099  \n4   -0.637556 -1.198330  2.015815  \n..        ...       ...       ...  \n995 -0.786797  0.536955 -0.134556  \n996 -0.488268 -1.457896  3.446737  \n997  0.359245 -1.112489  1.395480  \n998 -0.177895 -0.714533  1.086326  \n999 -1.496273 -0.205122  0.850363  \n\n[1000 rows x 10 columns] (1000, 10)\n"
        },
        {
          "output_type": "execute_result",
          "execution_count": 332,
          "data": {
            "text/plain": "<IPython.lib.display.IFrame at 0x7fd08e9eb1c0>",
            "text/html": "\n        <iframe\n            width=\"100%\"\n            height=\"750px\"\n            src=\"viz_dag_moralized.html\"\n            frameborder=\"0\"\n            allowfullscreen\n            \n        ></iframe>\n        "
          },
          "metadata": {}
        }
      ],
      "execution_count": 332,
      "metadata": {
        "jupyter": {
          "source_hidden": false,
          "outputs_hidden": false
        },
        "nteract": {
          "transient": {
            "deleting": false
          }
        },
        "gather": {
          "logged": 1675380286618
        }
      }
    },
    {
      "cell_type": "code",
      "source": [
        "X"
      ],
      "outputs": [
        {
          "output_type": "execute_result",
          "execution_count": 333,
          "data": {
            "text/plain": "           n0        n1        n2        n3        n4        n5        n6  \\\n0   -0.879388 -1.498487 -0.200611 -0.565441  0.749589 -4.111331 -0.236126   \n1    0.209718  0.013761 -0.816109 -1.839567  2.329623 -2.117465 -1.706715   \n2    0.370812 -0.784018 -1.006298 -3.390591  3.055930 -0.894312 -1.277711   \n3   -0.203842  2.331434 -2.148552 -2.014193  0.468403  0.784667 -0.689479   \n4    1.152455 -0.286871  0.166349 -0.525902  1.741010 -1.383982  0.028191   \n..        ...       ...       ...       ...       ...       ...       ...   \n995 -1.174983  1.436450 -2.772480 -2.178824  2.852591 -3.176169 -2.162356   \n996  1.465461  0.761249 -2.022885 -1.293409  3.827028 -0.699275 -1.287469   \n997  1.092442  1.026486  1.927907  0.707301 -3.192190  2.972836  1.645823   \n998 -1.174755 -0.174931 -0.541422 -0.801369 -1.985708  1.058453  1.227950   \n999 -1.007932  2.051556  0.146809 -4.274731  0.116606 -0.973810  0.111293   \n\n           n7        n8        n9  \n0    0.258645  1.514419 -2.066371  \n1   -0.430337 -0.043701 -0.100583  \n2   -0.398817 -1.267784  3.543143  \n3   -1.256842 -0.195800  0.972099  \n4   -0.637556 -1.198330  2.015815  \n..        ...       ...       ...  \n995 -0.786797  0.536955 -0.134556  \n996 -0.488268 -1.457896  3.446737  \n997  0.359245 -1.112489  1.395480  \n998 -0.177895 -0.714533  1.086326  \n999 -1.496273 -0.205122  0.850363  \n\n[1000 rows x 10 columns]",
            "text/html": "<div>\n<style scoped>\n    .dataframe tbody tr th:only-of-type {\n        vertical-align: middle;\n    }\n\n    .dataframe tbody tr th {\n        vertical-align: top;\n    }\n\n    .dataframe thead th {\n        text-align: right;\n    }\n</style>\n<table border=\"1\" class=\"dataframe\">\n  <thead>\n    <tr style=\"text-align: right;\">\n      <th></th>\n      <th>n0</th>\n      <th>n1</th>\n      <th>n2</th>\n      <th>n3</th>\n      <th>n4</th>\n      <th>n5</th>\n      <th>n6</th>\n      <th>n7</th>\n      <th>n8</th>\n      <th>n9</th>\n    </tr>\n  </thead>\n  <tbody>\n    <tr>\n      <th>0</th>\n      <td>-0.879388</td>\n      <td>-1.498487</td>\n      <td>-0.200611</td>\n      <td>-0.565441</td>\n      <td>0.749589</td>\n      <td>-4.111331</td>\n      <td>-0.236126</td>\n      <td>0.258645</td>\n      <td>1.514419</td>\n      <td>-2.066371</td>\n    </tr>\n    <tr>\n      <th>1</th>\n      <td>0.209718</td>\n      <td>0.013761</td>\n      <td>-0.816109</td>\n      <td>-1.839567</td>\n      <td>2.329623</td>\n      <td>-2.117465</td>\n      <td>-1.706715</td>\n      <td>-0.430337</td>\n      <td>-0.043701</td>\n      <td>-0.100583</td>\n    </tr>\n    <tr>\n      <th>2</th>\n      <td>0.370812</td>\n      <td>-0.784018</td>\n      <td>-1.006298</td>\n      <td>-3.390591</td>\n      <td>3.055930</td>\n      <td>-0.894312</td>\n      <td>-1.277711</td>\n      <td>-0.398817</td>\n      <td>-1.267784</td>\n      <td>3.543143</td>\n    </tr>\n    <tr>\n      <th>3</th>\n      <td>-0.203842</td>\n      <td>2.331434</td>\n      <td>-2.148552</td>\n      <td>-2.014193</td>\n      <td>0.468403</td>\n      <td>0.784667</td>\n      <td>-0.689479</td>\n      <td>-1.256842</td>\n      <td>-0.195800</td>\n      <td>0.972099</td>\n    </tr>\n    <tr>\n      <th>4</th>\n      <td>1.152455</td>\n      <td>-0.286871</td>\n      <td>0.166349</td>\n      <td>-0.525902</td>\n      <td>1.741010</td>\n      <td>-1.383982</td>\n      <td>0.028191</td>\n      <td>-0.637556</td>\n      <td>-1.198330</td>\n      <td>2.015815</td>\n    </tr>\n    <tr>\n      <th>...</th>\n      <td>...</td>\n      <td>...</td>\n      <td>...</td>\n      <td>...</td>\n      <td>...</td>\n      <td>...</td>\n      <td>...</td>\n      <td>...</td>\n      <td>...</td>\n      <td>...</td>\n    </tr>\n    <tr>\n      <th>995</th>\n      <td>-1.174983</td>\n      <td>1.436450</td>\n      <td>-2.772480</td>\n      <td>-2.178824</td>\n      <td>2.852591</td>\n      <td>-3.176169</td>\n      <td>-2.162356</td>\n      <td>-0.786797</td>\n      <td>0.536955</td>\n      <td>-0.134556</td>\n    </tr>\n    <tr>\n      <th>996</th>\n      <td>1.465461</td>\n      <td>0.761249</td>\n      <td>-2.022885</td>\n      <td>-1.293409</td>\n      <td>3.827028</td>\n      <td>-0.699275</td>\n      <td>-1.287469</td>\n      <td>-0.488268</td>\n      <td>-1.457896</td>\n      <td>3.446737</td>\n    </tr>\n    <tr>\n      <th>997</th>\n      <td>1.092442</td>\n      <td>1.026486</td>\n      <td>1.927907</td>\n      <td>0.707301</td>\n      <td>-3.192190</td>\n      <td>2.972836</td>\n      <td>1.645823</td>\n      <td>0.359245</td>\n      <td>-1.112489</td>\n      <td>1.395480</td>\n    </tr>\n    <tr>\n      <th>998</th>\n      <td>-1.174755</td>\n      <td>-0.174931</td>\n      <td>-0.541422</td>\n      <td>-0.801369</td>\n      <td>-1.985708</td>\n      <td>1.058453</td>\n      <td>1.227950</td>\n      <td>-0.177895</td>\n      <td>-0.714533</td>\n      <td>1.086326</td>\n    </tr>\n    <tr>\n      <th>999</th>\n      <td>-1.007932</td>\n      <td>2.051556</td>\n      <td>0.146809</td>\n      <td>-4.274731</td>\n      <td>0.116606</td>\n      <td>-0.973810</td>\n      <td>0.111293</td>\n      <td>-1.496273</td>\n      <td>-0.205122</td>\n      <td>0.850363</td>\n    </tr>\n  </tbody>\n</table>\n<p>1000 rows × 10 columns</p>\n</div>"
          },
          "metadata": {}
        }
      ],
      "execution_count": 333,
      "metadata": {
        "jupyter": {
          "source_hidden": false,
          "outputs_hidden": false
        },
        "nteract": {
          "transient": {
            "deleting": false
          }
        },
        "gather": {
          "logged": 1675380288402
        }
      }
    },
    {
      "cell_type": "markdown",
      "source": [
        "### Neural graph revealer\n",
        "\n",
        "For faster runtimes, set USE_CUDA=True"
      ],
      "metadata": {}
    },
    {
      "cell_type": "code",
      "source": [
        "import pandas as pd\n",
        "import ngr.main as ngr\n",
        "import ngr.utils.data_processing as dp\n",
        "\n",
        "# Learning the NGR model, works with no log scaling forward NGM\n",
        "# model_NGR = ngr.recover_graph(\n",
        "#     X, lambd=1e2,\n",
        "#     hidden_dim=100,\n",
        "#     epochs=50000, \n",
        "#     lr=0.0005, #0.0005,\n",
        "#     norm_type='min_max',\n",
        "#     k_fold=1,\n",
        "#     structure_penalty='hadamard',\n",
        "#     VERBOSE=True, \n",
        "#     BATCH_SIZE=None#5000, #1000\n",
        "# ) \n",
        "model_NGR = ngr.recover_graph(\n",
        "    X, lambd=1e2,\n",
        "    hidden_dim=100,\n",
        "    epochs=40000, \n",
        "    lr=0.0003, #0.0005,\n",
        "    norm_type='min_max',\n",
        "    k_fold=1,\n",
        "    structure_penalty='hadamard',\n",
        "    VERBOSE=True, \n",
        "    BATCH_SIZE=None#5000, #1000\n",
        ") \n",
        "# NOTE \n",
        "# Divide into batches\n",
        "# Stop training when train & test loss are low and the values are comparable. \n",
        "# Focus on structure loss, it becomes constant after certain iterations and then focus on regression starts... \n",
        "# Maybe adjust lambda to fit the regression first and then narrow down the structure?"
      ],
      "outputs": [
        {
          "output_type": "stream",
          "name": "stdout",
          "text": "Means of selected features (n0   -0.029633\nn1   -0.062458\nn2    0.024589\nn3    0.075272\nn4    0.005664\nn5   -0.088981\nn6    0.010743\nn7    0.031819\nn8    0.031036\nn9   -0.019124\ndtype: float64, 10)\nNormalizing the data: min_max\n: Processing the input table for basic compatibility check\n: The input table has sample 1000 and features 10\n: Total zero samples dropped 0\n: Single value columns dropped: total 0, columns []\n: The processed table has sample 1000 and features 10\n: Total time to process the table 0.008 secs\nFold num 0\nInitializing the NGM model\n\nFold 0: epoch:0/40000\nTrain: loss=3.927712917327881, reg=0.28683754801750183, struct=0.03640875220298767\nTest: loss=3.9299302101135254, reg=0.2890547811985016, struct=0.03640875220298767\n\nFold 0: epoch:4000/40000\nTrain: loss=2.202124834060669, reg=0.019023168832063675, struct=0.02183101698756218\nTest: loss=2.2025718688964844, reg=0.019470108672976494, struct=0.02183101698756218\n\nFold 0: epoch:8000/40000\nTrain: loss=1.4194153547286987, reg=0.01694984920322895, struct=0.014024654403328896\nTest: loss=1.4197242259979248, reg=0.01725877821445465, struct=0.014024654403328896\n\nFold 0: epoch:12000/40000\nTrain: loss=1.1197495460510254, reg=0.0160834938287735, struct=0.011036660522222519\nTest: loss=1.1200149059295654, reg=0.01634884625673294, struct=0.011036660522222519\n\nFold 0: epoch:16000/40000\nTrain: loss=1.024849534034729, reg=0.017719902098178864, struct=0.01007129717618227\nTest: loss=1.0249842405319214, reg=0.017854515463113785, struct=0.01007129717618227\n\nFold 0: epoch:20000/40000\nTrain: loss=1.0233162641525269, reg=0.017673024907708168, struct=0.010056432336568832\nTest: loss=1.023522138595581, reg=0.017878832295536995, struct=0.010056432336568832\n\nFold 0: epoch:24000/40000\nTrain: loss=1.02122163772583, reg=0.01759248599410057, struct=0.010036292485892773\nTest: loss=1.0215040445327759, reg=0.01787482388317585, struct=0.010036292485892773\n\nFold 0: epoch:28000/40000\nTrain: loss=1.020567774772644, reg=0.017482450231909752, struct=0.010030853562057018\nTest: loss=1.0209236145019531, reg=0.017838245257735252, struct=0.010030853562057018\n\nFold 0: epoch:32000/40000\nTrain: loss=1.0196970701217651, reg=0.016580039635300636, struct=0.010031171143054962\nTest: loss=1.0201126337051392, reg=0.016995565965771675, struct=0.010031171143054962\n\nFold 0: epoch:36000/40000\nTrain: loss=1.0175457000732422, reg=0.012412785552442074, struct=0.01005132868885994\nTest: loss=1.01813805103302, reg=0.013005166314542294, struct=0.01005132868885994\n\n\nBest model selected: Fold 0: epoch:39999/40000:\n                    Train: loss=1.0158326625823975, reg=0.010455053299665451, struct=0.010053776204586029\n                    Test (reg): loss=1.0164865255355835, reg=0.011108890175819397, struct=0.010053776204586029\n"
        }
      ],
      "execution_count": 352,
      "metadata": {
        "gather": {
          "logged": 1675380828640
        }
      }
    },
    {
      "cell_type": "code",
      "source": [
        "import networkx as nx\n",
        "# Plot the graph\n",
        "def adjust_graph_sparsity(G_in, sparsity=1, roundOFF=4):\n",
        "    G = nx.Graph() # G_out \n",
        "    names = np.array(G_in.nodes())\n",
        "    G.add_nodes_from(names)\n",
        "    rho = np.array(nx.adjacency_matrix(G_in).todense())\n",
        "    D = rho.shape[-1]\n",
        "    \n",
        "    # determining the threshold to maintain the sparsity level of the graph\n",
        "    def upper_tri_indexing(A):\n",
        "        m = A.shape[0]\n",
        "        r,c = np.triu_indices(m,1)\n",
        "        return A[r,c]\n",
        "\n",
        "    rho_upper = upper_tri_indexing(np.abs(rho))\n",
        "    num_non_zeros = int(sparsity*len(rho_upper))\n",
        "    rho_upper.sort()\n",
        "    th = rho_upper[-num_non_zeros]\n",
        "    print(f'Sparsity {sparsity} using threshold {th}')\n",
        "    th_pos, th_neg = th, -1*th\n",
        "\n",
        "    for i in range(D):\n",
        "        for j in range(i+1, D):\n",
        "            if rho[i,j] > th_pos:\n",
        "                G.add_edge(names[i], names[j], color='green', weight=round(rho[i,j], roundOFF), label='+')\n",
        "            elif rho[i,j] < th_neg:\n",
        "                G.add_edge(names[i], names[j], color='red', weight=round(rho[i,j], roundOFF), label='-')\n",
        "    return G\n",
        "\n",
        "def get_graph_NGR(model_NGR, sparsity=1):\n",
        "    model, scaler, feature_means = model_NGR\n",
        "    # Get the dependency matrix\n",
        "    prod_W = dp.t2np(ngr.product_weights_MLP(model))\n",
        "    print(f'Diagonals should be low {prod_W}')\n",
        "    \n",
        "    # Get the adjacency matrix (symmetric)\n",
        "    adj = (prod_W + np.transpose(prod_W))/2.0\n",
        "    # adj = np.linalg.inv(adj)\n",
        "    # print(f'inv of adj {np.linalg.inv(adj)}')\n",
        "    print(f'ADJ {adj}')\n",
        "    # adj=prod_W\n",
        "    G = nx.from_numpy_matrix(adj)\n",
        "    # add node names\n",
        "    mapping = {i:f for i, f in enumerate(feature_means.index)}\n",
        "    G = nx.relabel_nodes(G, mapping)\n",
        "    # adjust sparsity\n",
        "    G = adjust_graph_sparsity(G, sparsity=sparsity)\n",
        "    return G\n",
        "G_ngr = get_graph_NGR(model_NGR)\n",
        "print(G_ngr.edges(data=True))\n",
        "Gv_ngr = dp.get_interactive_graph(G_ngr, 'NGR graph', node_PREFIX=None)\n",
        "Gv_ngr.show('viz_ngr.html')"
      ],
      "outputs": [
        {
          "output_type": "stream",
          "name": "stdout",
          "text": "Diagonals should be low [[2.65909446e-04 4.51260450e-04 9.99995708e-01 1.83513388e-04\n  7.66133744e-05 2.51252647e-03 1.21856741e-04 8.59170468e-05\n  2.19091264e-04 1.40086538e-03]\n [1.05626299e-03 2.69018696e-04 3.64759471e-03 4.52617824e-04\n  1.66849713e-04 4.74529545e-04 1.68942890e-04 9.99992371e-01\n  2.18374829e-04 4.19904594e-04]\n [2.59443710e-04 1.44232676e-04 2.17761422e-04 4.08108492e-04\n  9.83471109e-05 2.29680954e-04 9.99999821e-01 8.42554655e-05\n  9.68461754e-05 1.93430329e-04]\n [2.51282152e-04 1.78114758e-04 1.00017828e-03 2.85194896e-04\n  1.18394615e-04 2.42098336e-04 1.13880051e-04 1.64558805e-04\n  1.60351861e-04 9.99999344e-01]\n [3.60924285e-04 1.75509296e-04 1.49774889e-04 9.99984980e-01\n  1.43302794e-04 2.93410243e-03 4.60554706e-03 1.63692384e-04\n  1.88305799e-04 2.36906912e-04]\n [9.99998868e-01 1.26359417e-04 1.23233505e-04 1.37218914e-04\n  1.28367610e-04 2.68582604e-04 1.52146351e-03 7.38490271e-05\n  1.11845213e-04 5.62174428e-05]\n [5.65043243e-04 2.29459474e-04 1.60533687e-04 1.13724454e-04\n  9.99999702e-01 4.30006796e-04 2.34870735e-04 1.03027662e-04\n  1.66574173e-04 8.51995355e-05]\n [1.43433237e-04 9.99981940e-01 2.09136168e-03 5.62854484e-03\n  1.15486968e-04 2.92749522e-04 6.07965594e-05 1.83904122e-04\n  1.67353865e-04 1.73865992e-04]\n [1.36309734e-03 2.51837337e-04 1.97950663e-04 2.87174829e-04\n  1.45390411e-04 9.99983907e-01 1.97496905e-04 2.19880618e-04\n  2.93883117e-04 5.47403703e-03]\n [1.62794575e-04 2.20123256e-04 2.06722485e-04 1.38989752e-04\n  8.36884428e-05 6.64201798e-05 7.27396691e-05 9.29496309e-05\n  9.99999940e-01 2.31793398e-04]]\nADJ [[2.65909446e-04 7.53761735e-04 5.00127554e-01 2.17397770e-04\n  2.18768837e-04 5.01255691e-01 3.43449996e-04 1.14675146e-04\n  7.91094324e-04 7.81829993e-04]\n [7.53761735e-04 2.69018696e-04 1.89591374e-03 3.15366284e-04\n  1.71179505e-04 3.00444488e-04 1.99201182e-04 9.99987125e-01\n  2.35106083e-04 3.20013933e-04]\n [5.00127554e-01 1.89591374e-03 2.17761422e-04 7.04143371e-04\n  1.24061000e-04 1.76457223e-04 5.00080168e-01 1.08780852e-03\n  1.47398416e-04 2.00076407e-04]\n [2.17397770e-04 3.15366284e-04 7.04143371e-04 2.85194896e-04\n  5.00051677e-01 1.89658633e-04 1.13802249e-04 2.89655174e-03\n  2.23763345e-04 5.00069141e-01]\n [2.18768837e-04 1.71179505e-04 1.24061000e-04 5.00051677e-01\n  1.43302794e-04 1.53123506e-03 5.02302647e-01 1.39589683e-04\n  1.66848098e-04 1.60297670e-04]\n [5.01255691e-01 3.00444488e-04 1.76457223e-04 1.89658633e-04\n  1.53123506e-03 2.68582604e-04 9.75735136e-04 1.83299271e-04\n  5.00047863e-01 6.13188095e-05]\n [3.43449996e-04 1.99201182e-04 5.00080168e-01 1.13802249e-04\n  5.02302647e-01 9.75735136e-04 2.34870735e-04 8.19121124e-05\n  1.82035539e-04 7.89696060e-05]\n [1.14675146e-04 9.99987125e-01 1.08780852e-03 2.89655174e-03\n  1.39589683e-04 1.83299271e-04 8.19121124e-05 1.83904122e-04\n  1.93617248e-04 1.33407812e-04]\n [7.91094324e-04 2.35106083e-04 1.47398416e-04 2.23763345e-04\n  1.66848098e-04 5.00047863e-01 1.82035539e-04 1.93617248e-04\n  2.93883117e-04 5.02736986e-01]\n [7.81829993e-04 3.20013933e-04 2.00076407e-04 5.00069141e-01\n  1.60297670e-04 6.13188095e-05 7.89696060e-05 1.33407812e-04\n  5.02736986e-01 2.31793398e-04]]\nSparsity 1 using threshold 6.131880945758894e-05\n[('n0', 'n1', {'color': 'green', 'weight': 0.0008, 'label': '+'}), ('n0', 'n2', {'color': 'green', 'weight': 0.5001, 'label': '+'}), ('n0', 'n3', {'color': 'green', 'weight': 0.0002, 'label': '+'}), ('n0', 'n4', {'color': 'green', 'weight': 0.0002, 'label': '+'}), ('n0', 'n5', {'color': 'green', 'weight': 0.5013, 'label': '+'}), ('n0', 'n6', {'color': 'green', 'weight': 0.0003, 'label': '+'}), ('n0', 'n7', {'color': 'green', 'weight': 0.0001, 'label': '+'}), ('n0', 'n8', {'color': 'green', 'weight': 0.0008, 'label': '+'}), ('n0', 'n9', {'color': 'green', 'weight': 0.0008, 'label': '+'}), ('n1', 'n2', {'color': 'green', 'weight': 0.0019, 'label': '+'}), ('n1', 'n3', {'color': 'green', 'weight': 0.0003, 'label': '+'}), ('n1', 'n4', {'color': 'green', 'weight': 0.0002, 'label': '+'}), ('n1', 'n5', {'color': 'green', 'weight': 0.0003, 'label': '+'}), ('n1', 'n6', {'color': 'green', 'weight': 0.0002, 'label': '+'}), ('n1', 'n7', {'color': 'green', 'weight': 1.0, 'label': '+'}), ('n1', 'n8', {'color': 'green', 'weight': 0.0002, 'label': '+'}), ('n1', 'n9', {'color': 'green', 'weight': 0.0003, 'label': '+'}), ('n2', 'n3', {'color': 'green', 'weight': 0.0007, 'label': '+'}), ('n2', 'n4', {'color': 'green', 'weight': 0.0001, 'label': '+'}), ('n2', 'n5', {'color': 'green', 'weight': 0.0002, 'label': '+'}), ('n2', 'n6', {'color': 'green', 'weight': 0.5001, 'label': '+'}), ('n2', 'n7', {'color': 'green', 'weight': 0.0011, 'label': '+'}), ('n2', 'n8', {'color': 'green', 'weight': 0.0001, 'label': '+'}), ('n2', 'n9', {'color': 'green', 'weight': 0.0002, 'label': '+'}), ('n3', 'n4', {'color': 'green', 'weight': 0.5001, 'label': '+'}), ('n3', 'n5', {'color': 'green', 'weight': 0.0002, 'label': '+'}), ('n3', 'n6', {'color': 'green', 'weight': 0.0001, 'label': '+'}), ('n3', 'n7', {'color': 'green', 'weight': 0.0029, 'label': '+'}), ('n3', 'n8', {'color': 'green', 'weight': 0.0002, 'label': '+'}), ('n3', 'n9', {'color': 'green', 'weight': 0.5001, 'label': '+'}), ('n4', 'n5', {'color': 'green', 'weight': 0.0015, 'label': '+'}), ('n4', 'n6', {'color': 'green', 'weight': 0.5023, 'label': '+'}), ('n4', 'n7', {'color': 'green', 'weight': 0.0001, 'label': '+'}), ('n4', 'n8', {'color': 'green', 'weight': 0.0002, 'label': '+'}), ('n4', 'n9', {'color': 'green', 'weight': 0.0002, 'label': '+'}), ('n5', 'n6', {'color': 'green', 'weight': 0.001, 'label': '+'}), ('n5', 'n7', {'color': 'green', 'weight': 0.0002, 'label': '+'}), ('n5', 'n8', {'color': 'green', 'weight': 0.5, 'label': '+'}), ('n6', 'n7', {'color': 'green', 'weight': 0.0001, 'label': '+'}), ('n6', 'n8', {'color': 'green', 'weight': 0.0002, 'label': '+'}), ('n6', 'n9', {'color': 'green', 'weight': 0.0001, 'label': '+'}), ('n7', 'n8', {'color': 'green', 'weight': 0.0002, 'label': '+'}), ('n7', 'n9', {'color': 'green', 'weight': 0.0001, 'label': '+'}), ('n8', 'n9', {'color': 'green', 'weight': 0.5027, 'label': '+'})]\n"
        },
        {
          "output_type": "execute_result",
          "execution_count": 353,
          "data": {
            "text/plain": "<IPython.lib.display.IFrame at 0x7fd08e9d4dc0>",
            "text/html": "\n        <iframe\n            width=\"100%\"\n            height=\"750px\"\n            src=\"viz_ngr.html\"\n            frameborder=\"0\"\n            allowfullscreen\n            \n        ></iframe>\n        "
          },
          "metadata": {}
        }
      ],
      "execution_count": 353,
      "metadata": {
        "gather": {
          "logged": 1675380829171
        }
      }
    },
    {
      "cell_type": "markdown",
      "source": [
        "### Comparison "
      ],
      "metadata": {}
    },
    {
      "cell_type": "code",
      "source": [
        "# Solving using the DAG solver\r\n",
        "def dag_solver(X):\r\n",
        "    node_names = X.columns\r\n",
        "    W_est = dag.notears_linear(np.array(X), lambda1=0.1, loss_type='l2')\r\n",
        "    W_est = pd.DataFrame(W_est, columns=node_names, index=node_names)\r\n",
        "    G = nx.from_pandas_adjacency(W_est,create_using=nx.DiGraph())\r\n",
        "    # moralize the graph \r\n",
        "    G_moral = nx.moral_graph(G)\r\n",
        "    return G_moral\r\n",
        "    \r\n",
        "G_dag_solver = dag_solver(X)"
      ],
      "outputs": [],
      "execution_count": 354,
      "metadata": {
        "jupyter": {
          "source_hidden": false,
          "outputs_hidden": false
        },
        "nteract": {
          "transient": {
            "deleting": false
          }
        },
        "gather": {
          "logged": 1675380829860
        }
      }
    },
    {
      "cell_type": "code",
      "source": [
        "# Comparing with true precision matrix\n",
        "from ngr.utils.metrics import graph_compare_metrics\n",
        "\n",
        "true_adj = np.array(nx.adjacency_matrix(G).todense())\n",
        "ngr_adj = np.array(nx.adjacency_matrix(G_ngr).todense())\n",
        "compare_results = graph_compare_metrics(\n",
        "    (true_adj != 0).astype(int),# np.abs(true_adj), \n",
        "    np.abs(ngr_adj) # Compare with sparsity=1\n",
        ")\n",
        "print(f'NGR: {compare_results}')\n",
        "dag_adj = np.array(nx.adjacency_matrix(G_dag_solver).todense())\n",
        "compare_results = graph_compare_metrics(\n",
        "    (true_adj != 0).astype(int),# np.abs(true_adj), \n",
        "    np.abs(dag_adj) # Compare with sparsity=1\n",
        ")\n",
        "print(f'DAG solver: {compare_results}')"
      ],
      "outputs": [
        {
          "output_type": "stream",
          "name": "stdout",
          "text": "NGR: {'FDR': 0.6590909090909091, 'TPR': 1.0, 'FPR': 0.9666666666666667, 'SHD': 29, 'nnzTrue': 15, 'nnzPred': 44, 'precision': 0.3409090909090909, 'recall': 1.0, 'Fbeta': 0.5084745762711864, 'aupr': 0.7056306873953933, 'auc': 0.8044444444444445}\nDAG solver: {'FDR': 0.0, 'TPR': 1.0, 'FPR': 0.0, 'SHD': 0, 'nnzTrue': 15, 'nnzPred': 15, 'precision': 1.0, 'recall': 1.0, 'Fbeta': 1.0, 'aupr': 1.0, 'auc': 1.0}\n"
        }
      ],
      "execution_count": 355,
      "metadata": {
        "gather": {
          "logged": 1675380830224
        }
      }
    },
    {
      "cell_type": "code",
      "source": [
        "true_adj, ngr_adj"
      ],
      "outputs": [
        {
          "output_type": "execute_result",
          "execution_count": 356,
          "data": {
            "text/plain": "(array([[ 0.        ,  0.        ,  1.        ,  0.        ,  1.        ,\n          1.6438597 ,  1.        ,  0.        , -0.59421451,  0.        ],\n        [ 0.        ,  0.        ,  0.        ,  0.        ,  0.        ,\n          0.        ,  0.        , -1.56536   ,  0.        ,  0.        ],\n        [ 1.        ,  0.        ,  0.        ,  0.        ,  1.        ,\n         -1.2528364 ,  1.        ,  0.97041624,  0.        ,  0.        ],\n        [ 0.        ,  0.        ,  0.        ,  0.        ,  0.        ,\n          0.        ,  0.        ,  1.92924669,  0.        ,  0.        ],\n        [ 1.        ,  0.        ,  1.        ,  0.        ,  0.        ,\n         -1.17301259, -1.58252174,  0.        ,  0.        ,  0.        ],\n        [ 1.6438597 ,  0.        , -1.2528364 ,  0.        , -1.17301259,\n          0.        ,  0.53582614,  0.        ,  0.        ,  0.        ],\n        [ 1.        ,  0.        ,  1.        ,  0.        , -1.58252174,\n          0.53582614,  0.        ,  0.        ,  0.        ,  0.        ],\n        [ 0.        , -1.56536   ,  0.97041624,  1.92924669,  0.        ,\n          0.        ,  0.        ,  0.        ,  0.        ,  0.        ],\n        [-0.59421451,  0.        ,  0.        ,  0.        ,  0.        ,\n          0.        ,  0.        ,  0.        ,  0.        , -1.58803227],\n        [ 0.        ,  0.        ,  0.        ,  0.        ,  0.        ,\n          0.        ,  0.        ,  0.        , -1.58803227,  0.        ]]),\n array([[0.000e+00, 8.000e-04, 5.001e-01, 2.000e-04, 2.000e-04, 5.013e-01,\n         3.000e-04, 1.000e-04, 8.000e-04, 8.000e-04],\n        [8.000e-04, 0.000e+00, 1.900e-03, 3.000e-04, 2.000e-04, 3.000e-04,\n         2.000e-04, 1.000e+00, 2.000e-04, 3.000e-04],\n        [5.001e-01, 1.900e-03, 0.000e+00, 7.000e-04, 1.000e-04, 2.000e-04,\n         5.001e-01, 1.100e-03, 1.000e-04, 2.000e-04],\n        [2.000e-04, 3.000e-04, 7.000e-04, 0.000e+00, 5.001e-01, 2.000e-04,\n         1.000e-04, 2.900e-03, 2.000e-04, 5.001e-01],\n        [2.000e-04, 2.000e-04, 1.000e-04, 5.001e-01, 0.000e+00, 1.500e-03,\n         5.023e-01, 1.000e-04, 2.000e-04, 2.000e-04],\n        [5.013e-01, 3.000e-04, 2.000e-04, 2.000e-04, 1.500e-03, 0.000e+00,\n         1.000e-03, 2.000e-04, 5.000e-01, 0.000e+00],\n        [3.000e-04, 2.000e-04, 5.001e-01, 1.000e-04, 5.023e-01, 1.000e-03,\n         0.000e+00, 1.000e-04, 2.000e-04, 1.000e-04],\n        [1.000e-04, 1.000e+00, 1.100e-03, 2.900e-03, 1.000e-04, 2.000e-04,\n         1.000e-04, 0.000e+00, 2.000e-04, 1.000e-04],\n        [8.000e-04, 2.000e-04, 1.000e-04, 2.000e-04, 2.000e-04, 5.000e-01,\n         2.000e-04, 2.000e-04, 0.000e+00, 5.027e-01],\n        [8.000e-04, 3.000e-04, 2.000e-04, 5.001e-01, 2.000e-04, 0.000e+00,\n         1.000e-04, 1.000e-04, 5.027e-01, 0.000e+00]]))"
          },
          "metadata": {}
        }
      ],
      "execution_count": 356,
      "metadata": {
        "gather": {
          "logged": 1675380830589
        }
      }
    },
    {
      "cell_type": "code",
      "source": [
        "true_theta"
      ],
      "outputs": [
        {
          "output_type": "execute_result",
          "execution_count": 357,
          "data": {
            "text/plain": "array([[ 1.67519542,  0.7765943 ,  0.        ,  0.        ,  0.        ,\n         0.        ,  0.        ,  0.        ,  0.        ,  0.        ],\n       [ 0.7765943 ,  1.67519542,  0.78281713,  0.        ,  0.        ,\n         0.        ,  0.        ,  0.        ,  0.        ,  0.        ],\n       [ 0.        ,  0.78281713,  1.67519542, -0.91296243,  0.        ,\n         0.        ,  0.        ,  0.        ,  0.        ,  0.        ],\n       [ 0.        ,  0.        , -0.91296243,  1.67519542, -0.64178659,\n         0.        ,  0.        ,  0.        ,  0.        ,  0.        ],\n       [ 0.        ,  0.        ,  0.        , -0.64178659,  1.67519542,\n         0.94261612,  0.        ,  0.        ,  0.        ,  0.        ],\n       [ 0.        ,  0.        ,  0.        ,  0.        ,  0.94261612,\n         1.67519542,  0.91647203,  0.        ,  0.        ,  0.        ],\n       [ 0.        ,  0.        ,  0.        ,  0.        ,  0.        ,\n         0.91647203,  1.67519542, -0.70265772,  0.        ,  0.        ],\n       [ 0.        ,  0.        ,  0.        ,  0.        ,  0.        ,\n         0.        , -0.70265772,  1.67519542,  0.73640322,  0.        ],\n       [ 0.        ,  0.        ,  0.        ,  0.        ,  0.        ,\n         0.        ,  0.        ,  0.73640322,  1.67519542,  0.67144267],\n       [ 0.        ,  0.        ,  0.        ,  0.        ,  0.        ,\n         0.        ,  0.        ,  0.        ,  0.67144267,  1.67519542]])"
          },
          "metadata": {}
        }
      ],
      "execution_count": 357,
      "metadata": {
        "gather": {
          "logged": 1675380830805
        },
        "jupyter": {
          "outputs_hidden": false,
          "source_hidden": false
        },
        "nteract": {
          "transient": {
            "deleting": false
          }
        }
      }
    },
    {
      "cell_type": "markdown",
      "source": [
        "### Params to vary  \r\n",
        "USE FROBENIUS NORM  \r\n",
        "ADD soft-symmetry term in draft  \r\n",
        "1. Different lambda for structure loss l1 & diag  \r\n",
        "2. Neural network num layers, dimensions, initializations  \r\n",
        "3. learning rate, early stopping  \r\n",
        "4. Try DAG data instead of GGM. Add the GGM results as under investigation  "
      ],
      "metadata": {
        "nteract": {
          "transient": {
            "deleting": false
          }
        }
      }
    },
    {
      "cell_type": "code",
      "source": [],
      "outputs": [],
      "execution_count": null,
      "metadata": {
        "jupyter": {
          "outputs_hidden": false,
          "source_hidden": false
        },
        "nteract": {
          "transient": {
            "deleting": false
          }
        }
      }
    },
    {
      "cell_type": "code",
      "source": [],
      "outputs": [],
      "execution_count": null,
      "metadata": {}
    },
    {
      "cell_type": "code",
      "source": [],
      "outputs": [],
      "execution_count": null,
      "metadata": {}
    },
    {
      "cell_type": "markdown",
      "source": [
        "#### GGM\n",
        "Can be shown analytically "
      ],
      "metadata": {}
    },
    {
      "cell_type": "code",
      "source": [
        "# Local imports\n",
        "from ngr.utils import ggm\n",
        "\n",
        "# Define the mean and cov of the multivariate Gaussian\n",
        "data_min_ = X.min(axis=0)\n",
        "data_max_ = X.max(axis=0)\n",
        "_scaler = [data_min_, data_max_]\n",
        "D = true_theta.shape[0]\n",
        "mean = pd.Series(np.zeros(D), index=X.columns)\n",
        "cov=np.linalg.pinv(true_theta)\n",
        "feature_of_interest = 'n1'\n",
        "# Analyse the feature dependency functions\n",
        "ggm.analyse_feature(feature_of_interest, [mean, cov, _scaler], G, Xi=mean)"
      ],
      "outputs": [
        {
          "output_type": "stream",
          "name": "stdout",
          "text": "Features dropped from graph: set()\ntarget=n1, source=n7\n"
        },
        {
          "output_type": "display_data",
          "data": {
            "text/plain": "<Figure size 1080x1080 with 1 Axes>",
            "image/png": "[encoded data removed]"
          },
          "metadata": {
            "needs_background": "light"
          }
        }
      ],
      "execution_count": 358,
      "metadata": {
        "scrolled": false,
        "gather": {
          "logged": 1675380831332
        }
      }
    },
    {
      "cell_type": "markdown",
      "source": [
        "#### NGM"
      ],
      "metadata": {}
    },
    {
      "cell_type": "code",
      "source": [
        "# Analyse the distribution details of the feature of interest\n",
        "ngr.analyse_feature(feature_of_interest, model_NGR, G, dp.series2df(mean))"
      ],
      "outputs": [
        {
          "output_type": "stream",
          "name": "stdout",
          "text": "Features dropped from graph: set()\ntarget=n1, source=n7\n"
        },
        {
          "output_type": "display_data",
          "data": {
            "text/plain": "<Figure size 1080x1080 with 1 Axes>",
            "image/png": "[encoded data removed]"
          },
          "metadata": {
            "needs_background": "light"
          }
        }
      ],
      "execution_count": 359,
      "metadata": {
        "gather": {
          "logged": 1675380832436
        }
      }
    },
    {
      "cell_type": "markdown",
      "source": [
        "### NGM: Sampling"
      ],
      "metadata": {}
    },
    {
      "cell_type": "code",
      "source": [
        "import ngm.main as ngm\n",
        "\n",
        "Xs = ngm.sampling(model_NGM, G, num_samples=4000, max_infer_itr=2)\n",
        "Xs = Xs[X.columns]"
      ],
      "outputs": [],
      "execution_count": null,
      "metadata": {}
    },
    {
      "cell_type": "markdown",
      "source": [
        "### Run CI graph recovery algorithms\n",
        "1. uGLAD\n",
        "2. BCD"
      ],
      "metadata": {}
    },
    {
      "cell_type": "code",
      "source": [
        "# uGLAD\n",
        "from ngm.utils.uGLAD import main as uG\n",
        "from ngm.utils.metrics import reportMetrics\n",
        "\n",
        "# Initialize the model\n",
        "model_uGLAD = uG.uGLAD_GL()  \n",
        "\n",
        "Xs = Xs[X.columns]\n",
        "# Fit to the data\n",
        "model_uGLAD.fit(\n",
        "    Xs,\n",
        "    centered=False,\n",
        "    epochs=2000,\n",
        "    lr=0.001,\n",
        "    INIT_DIAG=0,\n",
        "    L=5,\n",
        "    verbose=True, \n",
        "    k_fold=0,  # Direct mode\n",
        "    mode='direct'\n",
        ")  \n",
        "\n",
        "# Comparing with true precision matrix\n",
        "compare_theta_uGLAD = reportMetrics(\n",
        "        true_theta, \n",
        "        model_uGLAD.precision_\n",
        "    )\n",
        "print(f'uGLAD: {compare_theta_uGLAD}')"
      ],
      "outputs": [
        {
          "output_type": "stream",
          "name": "stdout",
          "text": "Running uGLAD\nProcessing the input table for basic compatibility check\n: Processing the input table for basic compatibility check\n: The input table has sample 4000 and features 10\n: Total zero samples dropped 0\n: Single value columns dropped: total 0, columns []\nInput covariance matrix: The condition number 1.5572058852566435 and min eig 0.006871181005512089 max eig 0.010699843500447085\n: Duplicates dropped: total 0, columns []\n: Low Variance columns dropped: min variance 0.0,        total 0, columns []\nProcessed covariance matrix: The condition number 1.5572058852566435 and min eig 0.006871181005512089 max eig 0.010699843500447085\n: The processed table has sample 4000 and features 10\n: Total time to process the table 0.852 secs\nDirect Mode\nepoch:0/2000 loss:-12.358485221862793\nepoch:200/2000 loss:-15.940261840820312\nepoch:400/2000 loss:-20.333969116210938\nepoch:600/2000 loss:-25.18743133544922\nepoch:800/2000 loss:-37.673797607421875\nepoch:1000/2000 loss:-37.6756591796875\nepoch:1200/2000 loss:-37.67802429199219\nepoch:1400/2000 loss:-37.67953109741211\nepoch:1600/2000 loss:-37.679908752441406\nepoch:1800/2000 loss:-37.68033981323242\nTotal runtime: 27.85730767250061 secs\n\nuGLAD: {'FDR': 0.7804878048780488, 'TPR': 1.0, 'FPR': 0.8888888888888888, 'SHD': 32, 'nnzTrue': 9, 'nnzPred': 41, 'precision': 0.21951219512195122, 'recall': 1.0, 'Fbeta': 0.36, 'aupr': 0.8355650522317188, 'auc': 0.95679012345679}\n"
        }
      ],
      "execution_count": 68,
      "metadata": {}
    },
    {
      "cell_type": "code",
      "source": [
        "def viz_graph_from_precision(theta):\n",
        "    rho = ggm.get_partial_correlations(theta)\n",
        "    Gr, _, _ = ggm.graph_from_partial_correlations(\n",
        "        rho, \n",
        "        Xs.columns,\n",
        "        sparsity=0.3\n",
        "    )\n",
        "    Gv = dp.get_interactive_graph(Gr, 'CI graph recovered from NGM samples', node_PREFIX=None)\n",
        "    return Gv\n",
        "    "
      ],
      "outputs": [],
      "execution_count": 82,
      "metadata": {}
    },
    {
      "cell_type": "code",
      "source": [
        "Gv = viz_graph_from_precision(model_uGLAD.precision_)\n",
        "Gv.show('viz_ggm_from_ngm_samples.html')"
      ],
      "outputs": [
        {
          "output_type": "stream",
          "name": "stdout",
          "text": "Sparsity 0.3 using threshold 0.05290000024270138\n"
        },
        {
          "output_type": "execute_result",
          "execution_count": 83,
          "data": {
            "text/html": "\n        <iframe\n            width=\"100%\"\n            height=\"750px\"\n            src=\"viz_ggm_from_ngm_samples.html\"\n            frameborder=\"0\"\n            allowfullscreen\n            \n        ></iframe>\n        ",
            "text/plain": "<IPython.lib.display.IFrame at 0x7ff955a55a90>"
          },
          "metadata": {}
        }
      ],
      "execution_count": 83,
      "metadata": {}
    }
  ],
  "metadata": {
    "kernel_info": {
      "name": "ngm"
    },
    "kernelspec": {
      "name": "ngm",
      "language": "python",
      "display_name": "ngm"
    },
    "language_info": {
      "name": "python",
      "version": "3.8.13",
      "mimetype": "text/x-python",
      "codemirror_mode": {
        "name": "ipython",
        "version": 3
      },
      "pygments_lexer": "ipython3",
      "nbconvert_exporter": "python",
      "file_extension": ".py"
    },
    "nteract": {
      "version": "nteract-front-end@1.0.0"
    },
    "vscode": {
      "interpreter": {
        "hash": "00816ecc25ad2bb8c24eb1ef6b288af77452a91daad584df7400e0df570f6e36"
      }
    },
    "microsoft": {
      "host": {
        "AzureML": {
          "notebookHasBeenCompleted": true
        }
      }
    }
  },
  "nbformat": 4,
  "nbformat_minor": 1
}