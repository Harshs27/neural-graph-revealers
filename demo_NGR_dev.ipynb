{
  "cells": [
    {
      "cell_type": "markdown",
      "source": [
        "### Neural Graph Revealers for recovering conditional independence graphs \n",
        "\n",
        "- We design a synthetic experiment to study the capability of `Neural Graph Revealers` to recover conditional independence graph represented by Gaussian graphical models.  \n",
        "- The input data X is sampled from a multivariate Gaussian distribution where we define the underlying precision matrix.   \n",
        "- Run `NGRs` to recover the underlying graph between features that should ideally match the CI graph."
      ],
      "metadata": {}
    },
    {
      "cell_type": "code",
      "source": [
        "import os, sys\n",
        "# reloads modules automatically before entering the \n",
        "# execution of code typed at the IPython prompt.\n",
        "%load_ext autoreload\n",
        "%autoreload 2\n",
        "print(sys.prefix)\n",
        "import warnings\n",
        "warnings.filterwarnings('ignore')\n",
        "\n",
        "import pickle"
      ],
      "outputs": [
        {
          "output_type": "stream",
          "name": "stdout",
          "text": "/anaconda/envs/ngm\n"
        }
      ],
      "execution_count": 1,
      "metadata": {
        "gather": {
          "logged": 1667507831375
        }
      }
    },
    {
      "cell_type": "markdown",
      "source": [
        "### Setup the Gaussian graphical model\n",
        "1. Initialize a graph type.\n",
        "2. Get the precision matrix `theta` and corresponding samples `X` from a multivariate Gaussian distribution.\n",
        "3. Get the partial correlations matrix `rho` and the graph `G`."
      ],
      "metadata": {}
    },
    {
      "cell_type": "code",
      "source": [
        "import numpy as np\n",
        "import pandas as pd\n",
        "\n",
        "# Local imports\n",
        "from ngr.utils import ggm\n",
        "from ngr.utils import data_processing as dp\n",
        "# from uGLAD.utils.metrics import reportMetrics\n",
        "\n",
        "# Xb = samples batch, trueTheta = corresponding true precision matrices\n",
        "Xb, true_theta = ggm.get_data(\n",
        "    num_nodes=10, \n",
        "    typeG='CHAIN', \n",
        "    sparsity=[0.2, 0.2], # Not used for chain graph\n",
        "    num_samples=5000, \n",
        "    batch_size=1,\n",
        "    eig_offset=0.1,#0.1, \n",
        "    w_min=0.5,\n",
        "    w_max=1\n",
        ")\n",
        "X, true_theta =Xb[0], true_theta[0]\n",
        "# set the column names for X\n",
        "X = pd.DataFrame(X, columns=['n'+str(i) for i in range(X.shape[1])])\n",
        "rho = ggm.get_partial_correlations(true_theta)\n",
        "print(f'partial correlations: {rho.shape}, Samples {X.shape}')\n",
        "G, image_G, graph_edge_list = ggm.graph_from_partial_correlations(rho, X.columns)"
      ],
      "outputs": [
        {
          "output_type": "stream",
          "name": "stdout",
          "text": "partial correlations: (10, 10), Samples (5000, 10)\nSparsity 1 using threshold 0.0\n"
        }
      ],
      "execution_count": 15,
      "metadata": {
        "gather": {
          "logged": 1667508297637
        }
      }
    },
    {
      "cell_type": "code",
      "source": [
        "Gv = dp.get_interactive_graph(G, 'GGM Chain graph', node_PREFIX=None)\n",
        "Gv.show('viz_ggm.html')"
      ],
      "outputs": [
        {
          "output_type": "execute_result",
          "execution_count": 16,
          "data": {
            "text/plain": "<IPython.lib.display.IFrame at 0x7f008943ff10>",
            "text/html": "\n        <iframe\n            width=\"100%\"\n            height=\"750px\"\n            src=\"viz_ggm.html\"\n            frameborder=\"0\"\n            allowfullscreen\n            \n        ></iframe>\n        "
          },
          "metadata": {}
        }
      ],
      "execution_count": 16,
      "metadata": {
        "gather": {
          "logged": 1667508298428
        }
      }
    },
    {
      "cell_type": "code",
      "source": [
        "X"
      ],
      "outputs": [
        {
          "output_type": "execute_result",
          "execution_count": 17,
          "data": {
            "text/plain": "            n0        n1        n2        n3        n4        n5        n6  \\\n0     0.767268 -0.979659  1.046004 -1.461619  2.175090  0.612038 -0.961096   \n1    -0.700237  1.103611 -1.981097 -0.954230  1.740229 -2.486970  2.651465   \n2     0.017644 -0.089878  0.233597  1.380079 -0.281326 -1.392009  2.614993   \n3     0.229520 -1.613814  1.032766 -1.351961  0.929709 -0.680311  0.611566   \n4    -0.406019  0.153366  0.848791  0.197184  0.321513  0.599608 -0.825687   \n...        ...       ...       ...       ...       ...       ...       ...   \n4995  0.910778  0.016850  0.895106  0.034905 -0.647549 -0.387837 -0.157419   \n4996 -0.592355  0.232038  0.895845  1.527587 -1.651451 -0.592704 -0.777851   \n4997  0.800201 -1.249396 -1.389241 -1.872950  1.396386 -0.913982 -1.271593   \n4998 -0.232420 -0.409884  1.521734  0.914500  1.109547 -1.868056  1.136559   \n4999  0.636630 -1.387650  0.984826 -0.329822  0.386260 -0.027600  2.150735   \n\n            n7        n8        n9  \n0    -0.488278 -0.523504  0.482449  \n1    -0.129854 -0.750695  0.633747  \n2    -2.365668 -1.900025  1.121979  \n3    -0.434841 -0.708244  0.446975  \n4    -0.209009  2.076419 -1.607562  \n...        ...       ...       ...  \n4995  0.681538  0.486042  0.659767  \n4996 -1.373095 -0.282867 -0.796989  \n4997  1.244957 -0.306986 -0.119172  \n4998  0.187382  0.890733  0.941072  \n4999 -1.727918 -1.647594  1.351099  \n\n[5000 rows x 10 columns]",
            "text/html": "<div>\n<style scoped>\n    .dataframe tbody tr th:only-of-type {\n        vertical-align: middle;\n    }\n\n    .dataframe tbody tr th {\n        vertical-align: top;\n    }\n\n    .dataframe thead th {\n        text-align: right;\n    }\n</style>\n<table border=\"1\" class=\"dataframe\">\n  <thead>\n    <tr style=\"text-align: right;\">\n      <th></th>\n      <th>n0</th>\n      <th>n1</th>\n      <th>n2</th>\n      <th>n3</th>\n      <th>n4</th>\n      <th>n5</th>\n      <th>n6</th>\n      <th>n7</th>\n      <th>n8</th>\n      <th>n9</th>\n    </tr>\n  </thead>\n  <tbody>\n    <tr>\n      <th>0</th>\n      <td>0.767268</td>\n      <td>-0.979659</td>\n      <td>1.046004</td>\n      <td>-1.461619</td>\n      <td>2.175090</td>\n      <td>0.612038</td>\n      <td>-0.961096</td>\n      <td>-0.488278</td>\n      <td>-0.523504</td>\n      <td>0.482449</td>\n    </tr>\n    <tr>\n      <th>1</th>\n      <td>-0.700237</td>\n      <td>1.103611</td>\n      <td>-1.981097</td>\n      <td>-0.954230</td>\n      <td>1.740229</td>\n      <td>-2.486970</td>\n      <td>2.651465</td>\n      <td>-0.129854</td>\n      <td>-0.750695</td>\n      <td>0.633747</td>\n    </tr>\n    <tr>\n      <th>2</th>\n      <td>0.017644</td>\n      <td>-0.089878</td>\n      <td>0.233597</td>\n      <td>1.380079</td>\n      <td>-0.281326</td>\n      <td>-1.392009</td>\n      <td>2.614993</td>\n      <td>-2.365668</td>\n      <td>-1.900025</td>\n      <td>1.121979</td>\n    </tr>\n    <tr>\n      <th>3</th>\n      <td>0.229520</td>\n      <td>-1.613814</td>\n      <td>1.032766</td>\n      <td>-1.351961</td>\n      <td>0.929709</td>\n      <td>-0.680311</td>\n      <td>0.611566</td>\n      <td>-0.434841</td>\n      <td>-0.708244</td>\n      <td>0.446975</td>\n    </tr>\n    <tr>\n      <th>4</th>\n      <td>-0.406019</td>\n      <td>0.153366</td>\n      <td>0.848791</td>\n      <td>0.197184</td>\n      <td>0.321513</td>\n      <td>0.599608</td>\n      <td>-0.825687</td>\n      <td>-0.209009</td>\n      <td>2.076419</td>\n      <td>-1.607562</td>\n    </tr>\n    <tr>\n      <th>...</th>\n      <td>...</td>\n      <td>...</td>\n      <td>...</td>\n      <td>...</td>\n      <td>...</td>\n      <td>...</td>\n      <td>...</td>\n      <td>...</td>\n      <td>...</td>\n      <td>...</td>\n    </tr>\n    <tr>\n      <th>4995</th>\n      <td>0.910778</td>\n      <td>0.016850</td>\n      <td>0.895106</td>\n      <td>0.034905</td>\n      <td>-0.647549</td>\n      <td>-0.387837</td>\n      <td>-0.157419</td>\n      <td>0.681538</td>\n      <td>0.486042</td>\n      <td>0.659767</td>\n    </tr>\n    <tr>\n      <th>4996</th>\n      <td>-0.592355</td>\n      <td>0.232038</td>\n      <td>0.895845</td>\n      <td>1.527587</td>\n      <td>-1.651451</td>\n      <td>-0.592704</td>\n      <td>-0.777851</td>\n      <td>-1.373095</td>\n      <td>-0.282867</td>\n      <td>-0.796989</td>\n    </tr>\n    <tr>\n      <th>4997</th>\n      <td>0.800201</td>\n      <td>-1.249396</td>\n      <td>-1.389241</td>\n      <td>-1.872950</td>\n      <td>1.396386</td>\n      <td>-0.913982</td>\n      <td>-1.271593</td>\n      <td>1.244957</td>\n      <td>-0.306986</td>\n      <td>-0.119172</td>\n    </tr>\n    <tr>\n      <th>4998</th>\n      <td>-0.232420</td>\n      <td>-0.409884</td>\n      <td>1.521734</td>\n      <td>0.914500</td>\n      <td>1.109547</td>\n      <td>-1.868056</td>\n      <td>1.136559</td>\n      <td>0.187382</td>\n      <td>0.890733</td>\n      <td>0.941072</td>\n    </tr>\n    <tr>\n      <th>4999</th>\n      <td>0.636630</td>\n      <td>-1.387650</td>\n      <td>0.984826</td>\n      <td>-0.329822</td>\n      <td>0.386260</td>\n      <td>-0.027600</td>\n      <td>2.150735</td>\n      <td>-1.727918</td>\n      <td>-1.647594</td>\n      <td>1.351099</td>\n    </tr>\n  </tbody>\n</table>\n<p>5000 rows × 10 columns</p>\n</div>"
          },
          "metadata": {}
        }
      ],
      "execution_count": 17,
      "metadata": {
        "gather": {
          "logged": 1667508299275
        },
        "jupyter": {
          "outputs_hidden": false,
          "source_hidden": false
        },
        "nteract": {
          "transient": {
            "deleting": false
          }
        }
      }
    },
    {
      "cell_type": "markdown",
      "source": [
        "### Neural graph revealer\n",
        "\n",
        "For faster runtimes, set USE_CUDA=True"
      ],
      "metadata": {}
    },
    {
      "cell_type": "code",
      "source": [
        "import pandas as pd\n",
        "import ngr.main as ngr\n",
        "import ngr.utils.data_processing as dp\n",
        "\n",
        "# Learning the NMG model\n",
        "model_NGR = ngr.recover_graph(\n",
        "    X, lambd=1e2,\n",
        "    hidden_dim=100,\n",
        "    epochs=50000, \n",
        "    lr=0.0005, #0.0005,\n",
        "    norm_type='min_max',\n",
        "    k_fold=1,\n",
        "    structure_penalty='hadamard',\n",
        "    VERBOSE=True, \n",
        "    BATCH_SIZE=None#5000, #1000\n",
        ") \n",
        "# NOTE \n",
        "# Divide into batches\n",
        "# Stop training when train & test loss are low and the values are comparable. "
      ],
      "outputs": [
        {
          "output_type": "stream",
          "name": "stdout",
          "text": "Means of selected features (n0   -0.008072\nn1    0.029049\nn2   -0.025730\nn3   -0.017546\nn4    0.008463\nn5   -0.007317\nn6    0.007216\nn7    0.005749\nn8    0.027568\nn9   -0.008732\ndtype: float64, 10)\nNormalizing the data: min_max\n: Processing the input table for basic compatibility check\n: The input table has sample 5000 and features 10\n: Total zero samples dropped 0\n: Single value columns dropped: total 0, columns []\n: The processed table has sample 5000 and features 10\n: Total time to process the table 0.009 secs\nFold num 0\nInitializing the NGM model\n\nFold 0: epoch:0/50000\nTrain: loss=3.941802501678467, reg=0.21723893284797668, struct=0.03724563494324684\nTest: loss=3.941396713256836, reg=0.2168331891298294, struct=0.03724563494324684\n\nFold 0: epoch:5000/50000\nTrain: loss=1.3709419965744019, reg=0.014775952324271202, struct=0.013561660423874855\nTest: loss=1.371002197265625, reg=0.014836198650300503, struct=0.013561660423874855\n\nFold 0: epoch:10000/50000\nTrain: loss=1.0552412271499634, reg=0.014222790487110615, struct=0.010410184971988201\nTest: loss=1.0553829669952393, reg=0.01436452753841877, struct=0.010410184971988201\n\nFold 0: epoch:15000/50000\nTrain: loss=1.0231220722198486, reg=0.014048183336853981, struct=0.010090738534927368\nTest: loss=1.023295283317566, reg=0.01422138698399067, struct=0.010090738534927368\n\nFold 0: epoch:20000/50000\nTrain: loss=1.01860511302948, reg=0.013918958604335785, struct=0.010046861134469509\nTest: loss=1.0187816619873047, reg=0.01409554947167635, struct=0.010046861134469509\n\nFold 0: epoch:25000/50000\nTrain: loss=1.0174840688705444, reg=0.013726856559515, struct=0.010037572123110294\nTest: loss=1.0176972150802612, reg=0.013939930126070976, struct=0.010037572123110294\n\nFold 0: epoch:30000/50000\nTrain: loss=1.016226887702942, reg=0.012396748177707195, struct=0.010038302280008793\nTest: loss=1.016567587852478, reg=0.012737344950437546, struct=0.010038302280008793\n\nFold 0: epoch:35000/50000\nTrain: loss=1.0146398544311523, reg=0.009738635271787643, struct=0.010049011558294296\nTest: loss=1.015404462814331, reg=0.010503263212740421, struct=0.010049011558294296\n\nFold 0: epoch:40000/50000\nTrain: loss=1.011997938156128, reg=0.005385905969887972, struct=0.010066120885312557\nTest: loss=1.0138270854949951, reg=0.0072150202468037605, struct=0.010066120885312557\n\nFold 0: epoch:45000/50000\nTrain: loss=1.0092936754226685, reg=0.0030047339387238026, struct=0.010062889195978642\nTest: loss=1.013232946395874, reg=0.006944077555090189, struct=0.010062889195978642\n\n\nBest model selected: Fold 0: epoch:43559/50000:\n                    Train: loss=1.009722352027893, reg=0.003475242294371128, struct=0.010062471963465214\n                    Test: loss=1.0129116773605347, reg=0.006664488464593887, struct=0.010062471963465214\n"
        }
      ],
      "execution_count": 83,
      "metadata": {
        "gather": {
          "logged": 1667512048266
        }
      }
    },
    {
      "cell_type": "code",
      "source": [
        "import networkx as nx\n",
        "# Plot the graph\n",
        "def adjust_graph_sparsity(G_in, sparsity=1, roundOFF=4):\n",
        "    G = nx.Graph() # G_out \n",
        "    names = np.array(G_in.nodes())\n",
        "    G.add_nodes_from(names)\n",
        "    rho = np.array(nx.adjacency_matrix(G_in).todense())\n",
        "    D = rho.shape[-1]\n",
        "    \n",
        "    # determining the threshold to maintain the sparsity level of the graph\n",
        "    def upper_tri_indexing(A):\n",
        "        m = A.shape[0]\n",
        "        r,c = np.triu_indices(m,1)\n",
        "        return A[r,c]\n",
        "\n",
        "    rho_upper = upper_tri_indexing(np.abs(rho))\n",
        "    num_non_zeros = int(sparsity*len(rho_upper))\n",
        "    rho_upper.sort()\n",
        "    th = rho_upper[-num_non_zeros]\n",
        "    print(f'Sparsity {sparsity} using threshold {th}')\n",
        "    th_pos, th_neg = th, -1*th\n",
        "\n",
        "    for i in range(D):\n",
        "        for j in range(i+1, D):\n",
        "            if rho[i,j] > th_pos:\n",
        "                G.add_edge(names[i], names[j], color='green', weight=round(rho[i,j], roundOFF), label='+')\n",
        "            elif rho[i,j] < th_neg:\n",
        "                G.add_edge(names[i], names[j], color='red', weight=round(rho[i,j], roundOFF), label='-')\n",
        "    return G\n",
        "\n",
        "def get_graph_NGR(model_NGR, sparsity=1):\n",
        "    model, scaler, feature_means = model_NGR\n",
        "    # Get the dependency matrix\n",
        "    prod_W = dp.t2np(ngr.product_weights_MLP(model))\n",
        "    # Get the adjacency matrix (symmetric)\n",
        "    adj = (prod_W + np.transpose(prod_W))/2.0\n",
        "    # adj=prod_W\n",
        "    G = nx.from_numpy_matrix(adj)\n",
        "    # add node names\n",
        "    mapping = {i:f for i, f in enumerate(feature_means.index)}\n",
        "    G = nx.relabel_nodes(G, mapping)\n",
        "    # adjust sparsity\n",
        "    G = adjust_graph_sparsity(G, sparsity=sparsity)\n",
        "    return G\n",
        "G_ngr = get_graph_NGR(model_NGR)\n",
        "Gv_ngr = dp.get_interactive_graph(G_ngr, 'NGR graph', node_PREFIX=None)\n",
        "Gv_ngr.show('viz_ngr.html')"
      ],
      "outputs": [
        {
          "output_type": "stream",
          "name": "stdout",
          "text": "Sparsity 1 using threshold 7.490377174690366e-05\n"
        },
        {
          "output_type": "execute_result",
          "execution_count": 84,
          "data": {
            "text/plain": "<IPython.lib.display.IFrame at 0x7f00894c2a90>",
            "text/html": "\n        <iframe\n            width=\"100%\"\n            height=\"750px\"\n            src=\"viz_ngr.html\"\n            frameborder=\"0\"\n            allowfullscreen\n            \n        ></iframe>\n        "
          },
          "metadata": {}
        }
      ],
      "execution_count": 84,
      "metadata": {
        "gather": {
          "logged": 1667512048720
        }
      }
    },
    {
      "cell_type": "markdown",
      "source": [
        "### Comparison "
      ],
      "metadata": {}
    },
    {
      "cell_type": "code",
      "source": [
        "# Comparing with true precision matrix\n",
        "from ngr.utils.metrics import graph_compare_metrics\n",
        "\n",
        "true_adj = np.array(nx.adjacency_matrix(G).todense())\n",
        "ngr_adj = np.array(nx.adjacency_matrix(G_ngr).todense())\n",
        "compare_results = graph_compare_metrics(\n",
        "    true_adj, \n",
        "    ngr_adj # Compare with sparsity=1\n",
        ")\n",
        "compare_results"
      ],
      "outputs": [
        {
          "output_type": "execute_result",
          "execution_count": 85,
          "data": {
            "text/plain": "{'FDR': 0.7954545454545454,\n 'TPR': 1.0,\n 'FPR': 0.9722222222222222,\n 'SHD': 35,\n 'nnzTrue': 9,\n 'nnzPred': 44,\n 'precision': 0.20454545454545456,\n 'recall': 1.0,\n 'Fbeta': 0.33962264150943394,\n 'aupr': 0.6611531986531987,\n 'auc': 0.8935185185185185}"
          },
          "metadata": {}
        }
      ],
      "execution_count": 85,
      "metadata": {
        "gather": {
          "logged": 1667512048955
        }
      }
    },
    {
      "cell_type": "code",
      "source": [
        "true_adj, ngr_adj"
      ],
      "outputs": [
        {
          "output_type": "execute_result",
          "execution_count": 86,
          "data": {
            "text/plain": "(array([[ 0.     , -0.41414,  0.     ,  0.     ,  0.     ,  0.     ,\n          0.     ,  0.     ,  0.     ,  0.     ],\n        [-0.41414,  0.     , -0.51723,  0.     ,  0.     ,  0.     ,\n          0.     ,  0.     ,  0.     ,  0.     ],\n        [ 0.     , -0.51723,  0.     ,  0.51071,  0.     ,  0.     ,\n          0.     ,  0.     ,  0.     ,  0.     ],\n        [ 0.     ,  0.     ,  0.51071,  0.     , -0.53717,  0.     ,\n          0.     ,  0.     ,  0.     ,  0.     ],\n        [ 0.     ,  0.     ,  0.     , -0.53717,  0.     , -0.45504,\n          0.     ,  0.     ,  0.     ,  0.     ],\n        [ 0.     ,  0.     ,  0.     ,  0.     , -0.45504,  0.     ,\n         -0.46132,  0.     ,  0.     ,  0.     ],\n        [ 0.     ,  0.     ,  0.     ,  0.     ,  0.     , -0.46132,\n          0.     , -0.43777,  0.     ,  0.     ],\n        [ 0.     ,  0.     ,  0.     ,  0.     ,  0.     ,  0.     ,\n         -0.43777,  0.     ,  0.45872,  0.     ],\n        [ 0.     ,  0.     ,  0.     ,  0.     ,  0.     ,  0.     ,\n          0.     ,  0.45872,  0.     , -0.46733],\n        [ 0.     ,  0.     ,  0.     ,  0.     ,  0.     ,  0.     ,\n          0.     ,  0.     , -0.46733,  0.     ]]),\n array([[0.000e+00, 5.002e-01, 3.000e-04, 2.000e-04, 1.000e-04, 1.000e-04,\n         3.000e-04, 2.000e-04, 2.000e-04, 5.001e-01],\n        [5.002e-01, 0.000e+00, 1.000e-03, 5.001e-01, 1.000e-04, 0.000e+00,\n         1.000e-04, 1.000e-04, 1.000e-04, 1.000e-04],\n        [3.000e-04, 1.000e-03, 0.000e+00, 5.009e-01, 2.000e-04, 2.000e-04,\n         2.000e-04, 1.000e-04, 5.001e-01, 2.000e-04],\n        [2.000e-04, 5.001e-01, 5.009e-01, 0.000e+00, 5.000e-04, 3.000e-04,\n         2.000e-04, 1.000e-04, 2.000e-04, 1.000e-04],\n        [1.000e-04, 1.000e-04, 2.000e-04, 5.000e-04, 0.000e+00, 5.000e-04,\n         2.000e-04, 5.002e-01, 2.000e-04, 5.000e-01],\n        [1.000e-04, 0.000e+00, 2.000e-04, 3.000e-04, 5.000e-04, 0.000e+00,\n         5.004e-01, 1.000e-04, 5.002e-01, 1.000e-04],\n        [3.000e-04, 1.000e-04, 2.000e-04, 2.000e-04, 2.000e-04, 5.004e-01,\n         0.000e+00, 5.002e-01, 2.000e-04, 2.000e-04],\n        [2.000e-04, 1.000e-04, 1.000e-04, 1.000e-04, 5.002e-01, 1.000e-04,\n         5.002e-01, 0.000e+00, 4.000e-04, 5.000e-04],\n        [2.000e-04, 1.000e-04, 5.001e-01, 2.000e-04, 2.000e-04, 5.002e-01,\n         2.000e-04, 4.000e-04, 0.000e+00, 5.000e-04],\n        [5.001e-01, 1.000e-04, 2.000e-04, 1.000e-04, 5.000e-01, 1.000e-04,\n         2.000e-04, 5.000e-04, 5.000e-04, 0.000e+00]]))"
          },
          "metadata": {}
        }
      ],
      "execution_count": 86,
      "metadata": {
        "gather": {
          "logged": 1667512049132
        }
      }
    },
    {
      "cell_type": "code",
      "source": [
        "true_theta"
      ],
      "outputs": [
        {
          "output_type": "execute_result",
          "execution_count": 87,
          "data": {
            "text/plain": "array([[ 1.56978363,  0.65011137,  0.        ,  0.        ,  0.        ,\n         0.        ,  0.        ,  0.        ,  0.        ,  0.        ],\n       [ 0.65011137,  1.56978363,  0.81194615,  0.        ,  0.        ,\n         0.        ,  0.        ,  0.        ,  0.        ,  0.        ],\n       [ 0.        ,  0.81194615,  1.56978363, -0.80170829,  0.        ,\n         0.        ,  0.        ,  0.        ,  0.        ,  0.        ],\n       [ 0.        ,  0.        , -0.80170829,  1.56978363,  0.84323387,\n         0.        ,  0.        ,  0.        ,  0.        ,  0.        ],\n       [ 0.        ,  0.        ,  0.        ,  0.84323387,  1.56978363,\n         0.71431432,  0.        ,  0.        ,  0.        ,  0.        ],\n       [ 0.        ,  0.        ,  0.        ,  0.        ,  0.71431432,\n         1.56978363,  0.72416986,  0.        ,  0.        ,  0.        ],\n       [ 0.        ,  0.        ,  0.        ,  0.        ,  0.        ,\n         0.72416986,  1.56978363,  0.68720719,  0.        ,  0.        ],\n       [ 0.        ,  0.        ,  0.        ,  0.        ,  0.        ,\n         0.        ,  0.68720719,  1.56978363, -0.72009174,  0.        ],\n       [ 0.        ,  0.        ,  0.        ,  0.        ,  0.        ,\n         0.        ,  0.        , -0.72009174,  1.56978363,  0.73359956],\n       [ 0.        ,  0.        ,  0.        ,  0.        ,  0.        ,\n         0.        ,  0.        ,  0.        ,  0.73359956,  1.56978363]])"
          },
          "metadata": {}
        }
      ],
      "execution_count": 87,
      "metadata": {
        "gather": {
          "logged": 1667512049311
        },
        "jupyter": {
          "outputs_hidden": false,
          "source_hidden": false
        },
        "nteract": {
          "transient": {
            "deleting": false
          }
        }
      }
    },
    {
      "cell_type": "code",
      "source": [],
      "outputs": [],
      "execution_count": null,
      "metadata": {
        "jupyter": {
          "outputs_hidden": false,
          "source_hidden": false
        },
        "nteract": {
          "transient": {
            "deleting": false
          }
        }
      }
    },
    {
      "cell_type": "code",
      "source": [],
      "outputs": [],
      "execution_count": null,
      "metadata": {}
    },
    {
      "cell_type": "code",
      "source": [],
      "outputs": [],
      "execution_count": null,
      "metadata": {}
    },
    {
      "cell_type": "markdown",
      "source": [
        "#### GGM\n",
        "Can be shown analytically "
      ],
      "metadata": {}
    },
    {
      "cell_type": "code",
      "source": [
        "# Local imports\n",
        "from ngm.utils import ggm\n",
        "\n",
        "# Define the mean and cov of the multivariate Gaussian\n",
        "data_min_ = X.min(axis=0)\n",
        "data_max_ = X.max(axis=0)\n",
        "_scaler = [data_min_, data_max_]\n",
        "D = true_theta.shape[0]\n",
        "mean = pd.Series(np.zeros(D), index=X.columns)\n",
        "cov=np.linalg.pinv(true_theta)\n",
        "\n",
        "# Analyse the feature dependency functions\n",
        "ggm.analyse_feature(feature_of_interest, [mean, cov, _scaler], G, Xi=mean)"
      ],
      "outputs": [
        {
          "output_type": "stream",
          "name": "stdout",
          "text": "Features dropped from graph: set()\ntarget=n5, source=n4\ntarget=n5, source=n6\n"
        },
        {
          "output_type": "display_data",
          "data": {
            "image/png": "[encoded data removed]",
            "text/plain": "<Figure size 360x720 with 2 Axes>"
          },
          "metadata": {
            "needs_background": "light"
          }
        }
      ],
      "execution_count": 86,
      "metadata": {
        "scrolled": false
      }
    },
    {
      "cell_type": "markdown",
      "source": [
        "#### NGM"
      ],
      "metadata": {}
    },
    {
      "cell_type": "code",
      "source": [
        "# Analyse the distribution details of the feature of interest\n",
        "ngm.analyse_feature(feature_of_interest, model_NGM, G, dp.series2df(mean))"
      ],
      "outputs": [
        {
          "output_type": "stream",
          "name": "stdout",
          "text": "Features dropped from graph: set()\ntarget=n5, source=n4\ntarget=n5, source=n6\n"
        },
        {
          "output_type": "display_data",
          "data": {
            "image/png": "[encoded data removed]",
            "text/plain": "<Figure size 360x720 with 2 Axes>"
          },
          "metadata": {
            "needs_background": "light"
          }
        }
      ],
      "execution_count": 87,
      "metadata": {}
    },
    {
      "cell_type": "markdown",
      "source": [
        "### NGM: Sampling"
      ],
      "metadata": {}
    },
    {
      "cell_type": "code",
      "source": [
        "import ngm.main as ngm\n",
        "\n",
        "Xs = ngm.sampling(model_NGM, G, num_samples=4000, max_infer_itr=2)\n",
        "Xs = Xs[X.columns]"
      ],
      "outputs": [],
      "execution_count": null,
      "metadata": {}
    },
    {
      "cell_type": "markdown",
      "source": [
        "### Run CI graph recovery algorithms\n",
        "1. uGLAD\n",
        "2. BCD"
      ],
      "metadata": {}
    },
    {
      "cell_type": "code",
      "source": [
        "# uGLAD\n",
        "from ngm.utils.uGLAD import main as uG\n",
        "from ngm.utils.metrics import reportMetrics\n",
        "\n",
        "# Initialize the model\n",
        "model_uGLAD = uG.uGLAD_GL()  \n",
        "\n",
        "Xs = Xs[X.columns]\n",
        "# Fit to the data\n",
        "model_uGLAD.fit(\n",
        "    Xs,\n",
        "    centered=False,\n",
        "    epochs=2000,\n",
        "    lr=0.001,\n",
        "    INIT_DIAG=0,\n",
        "    L=5,\n",
        "    verbose=True, \n",
        "    k_fold=0,  # Direct mode\n",
        "    mode='direct'\n",
        ")  \n",
        "\n",
        "# Comparing with true precision matrix\n",
        "compare_theta_uGLAD = reportMetrics(\n",
        "        true_theta, \n",
        "        model_uGLAD.precision_\n",
        "    )\n",
        "print(f'uGLAD: {compare_theta_uGLAD}')"
      ],
      "outputs": [
        {
          "output_type": "stream",
          "name": "stdout",
          "text": "Running uGLAD\nProcessing the input table for basic compatibility check\n: Processing the input table for basic compatibility check\n: The input table has sample 4000 and features 10\n: Total zero samples dropped 0\n: Single value columns dropped: total 0, columns []\nInput covariance matrix: The condition number 1.5572058852566435 and min eig 0.006871181005512089 max eig 0.010699843500447085\n: Duplicates dropped: total 0, columns []\n: Low Variance columns dropped: min variance 0.0,        total 0, columns []\nProcessed covariance matrix: The condition number 1.5572058852566435 and min eig 0.006871181005512089 max eig 0.010699843500447085\n: The processed table has sample 4000 and features 10\n: Total time to process the table 0.852 secs\nDirect Mode\nepoch:0/2000 loss:-12.358485221862793\nepoch:200/2000 loss:-15.940261840820312\nepoch:400/2000 loss:-20.333969116210938\nepoch:600/2000 loss:-25.18743133544922\nepoch:800/2000 loss:-37.673797607421875\nepoch:1000/2000 loss:-37.6756591796875\nepoch:1200/2000 loss:-37.67802429199219\nepoch:1400/2000 loss:-37.67953109741211\nepoch:1600/2000 loss:-37.679908752441406\nepoch:1800/2000 loss:-37.68033981323242\nTotal runtime: 27.85730767250061 secs\n\nuGLAD: {'FDR': 0.7804878048780488, 'TPR': 1.0, 'FPR': 0.8888888888888888, 'SHD': 32, 'nnzTrue': 9, 'nnzPred': 41, 'precision': 0.21951219512195122, 'recall': 1.0, 'Fbeta': 0.36, 'aupr': 0.8355650522317188, 'auc': 0.95679012345679}\n"
        }
      ],
      "execution_count": 68,
      "metadata": {}
    },
    {
      "cell_type": "code",
      "source": [
        "def viz_graph_from_precision(theta):\n",
        "    rho = ggm.get_partial_correlations(theta)\n",
        "    Gr, _, _ = ggm.graph_from_partial_correlations(\n",
        "        rho, \n",
        "        Xs.columns,\n",
        "        sparsity=0.3\n",
        "    )\n",
        "    Gv = dp.get_interactive_graph(Gr, 'CI graph recovered from NGM samples', node_PREFIX=None)\n",
        "    return Gv\n",
        "    "
      ],
      "outputs": [],
      "execution_count": 82,
      "metadata": {}
    },
    {
      "cell_type": "code",
      "source": [
        "Gv = viz_graph_from_precision(model_uGLAD.precision_)\n",
        "Gv.show('viz_ggm_from_ngm_samples.html')"
      ],
      "outputs": [
        {
          "output_type": "stream",
          "name": "stdout",
          "text": "Sparsity 0.3 using threshold 0.05290000024270138\n"
        },
        {
          "output_type": "execute_result",
          "execution_count": 83,
          "data": {
            "text/html": "\n        <iframe\n            width=\"100%\"\n            height=\"750px\"\n            src=\"viz_ggm_from_ngm_samples.html\"\n            frameborder=\"0\"\n            allowfullscreen\n            \n        ></iframe>\n        ",
            "text/plain": "<IPython.lib.display.IFrame at 0x7ff955a55a90>"
          },
          "metadata": {}
        }
      ],
      "execution_count": 83,
      "metadata": {}
    }
  ],
  "metadata": {
    "kernel_info": {
      "name": "ngm"
    },
    "kernelspec": {
      "name": "ngm",
      "language": "python",
      "display_name": "ngm"
    },
    "language_info": {
      "name": "python",
      "version": "3.8.13",
      "mimetype": "text/x-python",
      "codemirror_mode": {
        "name": "ipython",
        "version": 3
      },
      "pygments_lexer": "ipython3",
      "nbconvert_exporter": "python",
      "file_extension": ".py"
    },
    "nteract": {
      "version": "nteract-front-end@1.0.0"
    },
    "vscode": {
      "interpreter": {
        "hash": "00816ecc25ad2bb8c24eb1ef6b288af77452a91daad584df7400e0df570f6e36"
      }
    }
  },
  "nbformat": 4,
  "nbformat_minor": 1
}